{
 "cells": [
  {
   "cell_type": "markdown",
   "id": "87464df5",
   "metadata": {},
   "source": [
    "# Feature Engineering"
   ]
  },
  {
   "cell_type": "markdown",
   "id": "59bb9a9d",
   "metadata": {},
   "source": [
    "following the data analysis carried out in the previous module, here are the following steps for feature engineering \n",
    "- One-Hot encode the variable \"Geography\"\n",
    "- Label-Encode the variable \"Gender\"\n",
    "- Apply log transformation on the Age variable feature\n",
    "- Create a binary feature from the column Balance and drop the column Balance\n",
    "- We will also apply SMOTE technique to tackle the data imbalance\n",
    "- Scale the input features using MinMax scaler\n"
   ]
  },
  {
   "cell_type": "code",
   "execution_count": 58,
   "id": "4b13d7ad",
   "metadata": {
    "ExecuteTime": {
     "end_time": "2025-09-14T06:46:54.414373Z",
     "start_time": "2025-09-14T06:46:54.402753Z"
    }
   },
   "outputs": [],
   "source": [
    "# importing necessary module\n",
    "import pandas as pd\n",
    "import numpy as np\n",
    "import seaborn as sns\n",
    "import matplotlib.pyplot as plt\n",
    "from sklearn.model_selection import train_test_split\n",
    "from feature_engine.encoding import OneHotEncoder\n",
    "from feature_engine.encoding import OrdinalEncoder\n",
    "from feature_engine.transformation import LogTransformer\n",
    "from sklearn.preprocessing import Binarizer, MinMaxScaler\n",
    "from feature_engine.wrappers import SklearnTransformerWrapper\n",
    "from feature_engine.selection import DropFeatures\n",
    "from imblearn.over_sampling import SMOTE\n",
    "\n",
    "from sklearn.linear_model import LogisticRegression\n",
    "from sklearn.ensemble import RandomForestClassifier, GradientBoostingClassifier\n",
    "from sklearn.svm import SVC\n",
    "from sklearn.model_selection import GridSearchCV, StratifiedKFold\n",
    "\n",
    "\n",
    "\n",
    "from sklearn.metrics import accuracy_score, recall_score , precision_score, confusion_matrix\n",
    "\n",
    "import warnings\n",
    "\n",
    "warnings.filterwarnings('ignore')"
   ]
  },
  {
   "cell_type": "code",
   "execution_count": 31,
   "id": "5288ca05",
   "metadata": {
    "ExecuteTime": {
     "end_time": "2025-09-14T06:12:41.604123Z",
     "start_time": "2025-09-14T06:12:41.411032Z"
    }
   },
   "outputs": [
    {
     "data": {
      "text/html": [
       "<div>\n",
       "<style scoped>\n",
       "    .dataframe tbody tr th:only-of-type {\n",
       "        vertical-align: middle;\n",
       "    }\n",
       "\n",
       "    .dataframe tbody tr th {\n",
       "        vertical-align: top;\n",
       "    }\n",
       "\n",
       "    .dataframe thead th {\n",
       "        text-align: right;\n",
       "    }\n",
       "</style>\n",
       "<table border=\"1\" class=\"dataframe\">\n",
       "  <thead>\n",
       "    <tr style=\"text-align: right;\">\n",
       "      <th></th>\n",
       "      <th>RowNumber</th>\n",
       "      <th>CustomerId</th>\n",
       "      <th>Surname</th>\n",
       "      <th>CreditScore</th>\n",
       "      <th>Geography</th>\n",
       "      <th>Gender</th>\n",
       "      <th>Age</th>\n",
       "      <th>Tenure</th>\n",
       "      <th>Balance</th>\n",
       "      <th>NumOfProducts</th>\n",
       "      <th>HasCrCard</th>\n",
       "      <th>IsActiveMember</th>\n",
       "      <th>EstimatedSalary</th>\n",
       "      <th>Exited</th>\n",
       "    </tr>\n",
       "  </thead>\n",
       "  <tbody>\n",
       "    <tr>\n",
       "      <th>0</th>\n",
       "      <td>1</td>\n",
       "      <td>15634602</td>\n",
       "      <td>Hargrave</td>\n",
       "      <td>619</td>\n",
       "      <td>France</td>\n",
       "      <td>Female</td>\n",
       "      <td>42</td>\n",
       "      <td>2</td>\n",
       "      <td>0.00</td>\n",
       "      <td>1</td>\n",
       "      <td>1</td>\n",
       "      <td>1</td>\n",
       "      <td>101348.88</td>\n",
       "      <td>1</td>\n",
       "    </tr>\n",
       "    <tr>\n",
       "      <th>1</th>\n",
       "      <td>2</td>\n",
       "      <td>15647311</td>\n",
       "      <td>Hill</td>\n",
       "      <td>608</td>\n",
       "      <td>Spain</td>\n",
       "      <td>Female</td>\n",
       "      <td>41</td>\n",
       "      <td>1</td>\n",
       "      <td>83807.86</td>\n",
       "      <td>1</td>\n",
       "      <td>0</td>\n",
       "      <td>1</td>\n",
       "      <td>112542.58</td>\n",
       "      <td>0</td>\n",
       "    </tr>\n",
       "    <tr>\n",
       "      <th>2</th>\n",
       "      <td>3</td>\n",
       "      <td>15619304</td>\n",
       "      <td>Onio</td>\n",
       "      <td>502</td>\n",
       "      <td>France</td>\n",
       "      <td>Female</td>\n",
       "      <td>42</td>\n",
       "      <td>8</td>\n",
       "      <td>159660.80</td>\n",
       "      <td>3</td>\n",
       "      <td>1</td>\n",
       "      <td>0</td>\n",
       "      <td>113931.57</td>\n",
       "      <td>1</td>\n",
       "    </tr>\n",
       "    <tr>\n",
       "      <th>3</th>\n",
       "      <td>4</td>\n",
       "      <td>15701354</td>\n",
       "      <td>Boni</td>\n",
       "      <td>699</td>\n",
       "      <td>France</td>\n",
       "      <td>Female</td>\n",
       "      <td>39</td>\n",
       "      <td>1</td>\n",
       "      <td>0.00</td>\n",
       "      <td>2</td>\n",
       "      <td>0</td>\n",
       "      <td>0</td>\n",
       "      <td>93826.63</td>\n",
       "      <td>0</td>\n",
       "    </tr>\n",
       "    <tr>\n",
       "      <th>4</th>\n",
       "      <td>5</td>\n",
       "      <td>15737888</td>\n",
       "      <td>Mitchell</td>\n",
       "      <td>850</td>\n",
       "      <td>Spain</td>\n",
       "      <td>Female</td>\n",
       "      <td>43</td>\n",
       "      <td>2</td>\n",
       "      <td>125510.82</td>\n",
       "      <td>1</td>\n",
       "      <td>1</td>\n",
       "      <td>1</td>\n",
       "      <td>79084.10</td>\n",
       "      <td>0</td>\n",
       "    </tr>\n",
       "  </tbody>\n",
       "</table>\n",
       "</div>"
      ],
      "text/plain": [
       "   RowNumber  CustomerId   Surname  CreditScore Geography  Gender  Age  \\\n",
       "0          1    15634602  Hargrave          619    France  Female   42   \n",
       "1          2    15647311      Hill          608     Spain  Female   41   \n",
       "2          3    15619304      Onio          502    France  Female   42   \n",
       "3          4    15701354      Boni          699    France  Female   39   \n",
       "4          5    15737888  Mitchell          850     Spain  Female   43   \n",
       "\n",
       "   Tenure    Balance  NumOfProducts  HasCrCard  IsActiveMember  \\\n",
       "0       2       0.00              1          1               1   \n",
       "1       1   83807.86              1          0               1   \n",
       "2       8  159660.80              3          1               0   \n",
       "3       1       0.00              2          0               0   \n",
       "4       2  125510.82              1          1               1   \n",
       "\n",
       "   EstimatedSalary  Exited  \n",
       "0        101348.88       1  \n",
       "1        112542.58       0  \n",
       "2        113931.57       1  \n",
       "3         93826.63       0  \n",
       "4         79084.10       0  "
      ]
     },
     "execution_count": 31,
     "metadata": {},
     "output_type": "execute_result"
    }
   ],
   "source": [
    "# loading up the dataset\n",
    "data = pd.read_csv('Churn_Modelling.csv')\n",
    "data.head()"
   ]
  },
  {
   "cell_type": "code",
   "execution_count": 32,
   "id": "e3f04bb8",
   "metadata": {
    "ExecuteTime": {
     "end_time": "2025-09-14T06:12:42.971940Z",
     "start_time": "2025-09-14T06:12:42.518105Z"
    }
   },
   "outputs": [
    {
     "name": "stdout",
     "output_type": "stream",
     "text": [
      "X shape:  (10000, 13)\n",
      "y shape:  (10000,)\n"
     ]
    }
   ],
   "source": [
    "# split data into feature and target\n",
    "X = data.drop('Exited', axis=1)\n",
    "y = data['Exited']\n",
    "\n",
    "print(\"X shape: \", X.shape)\n",
    "print(\"y shape: \", y.shape)"
   ]
  },
  {
   "cell_type": "code",
   "execution_count": 33,
   "id": "274a279f",
   "metadata": {
    "ExecuteTime": {
     "end_time": "2025-09-14T06:12:44.270009Z",
     "start_time": "2025-09-14T06:12:44.167718Z"
    }
   },
   "outputs": [
    {
     "name": "stdout",
     "output_type": "stream",
     "text": [
      "X_train shape: (7500, 13)\n",
      "y_test shape:  (7500,)\n",
      "X_test shape:  (2500, 13)\n",
      "y_test shape:  (2500,)\n"
     ]
    }
   ],
   "source": [
    "# Split data into train test set\n",
    "X_train, X_test, y_train, y_test = train_test_split(X, y, stratify=y, random_state=0)\n",
    "\n",
    "print(\"X_train shape:\", X_train.shape)\n",
    "print(\"y_test shape: \", y_train.shape)\n",
    "print(\"X_test shape: \", X_test.shape)\n",
    "print(\"y_test shape: \", y_test.shape)"
   ]
  },
  {
   "cell_type": "markdown",
   "id": "2f9381ec",
   "metadata": {
    "ExecuteTime": {
     "end_time": "2025-09-11T18:18:01.140407Z",
     "start_time": "2025-09-11T18:18:01.113800Z"
    }
   },
   "source": [
    "**Drop Unwanted Columns**"
   ]
  },
  {
   "cell_type": "code",
   "execution_count": 34,
   "id": "ac337161",
   "metadata": {
    "ExecuteTime": {
     "end_time": "2025-09-14T06:12:46.999973Z",
     "start_time": "2025-09-14T06:12:46.966413Z"
    }
   },
   "outputs": [
    {
     "data": {
      "text/html": [
       "<div>\n",
       "<style scoped>\n",
       "    .dataframe tbody tr th:only-of-type {\n",
       "        vertical-align: middle;\n",
       "    }\n",
       "\n",
       "    .dataframe tbody tr th {\n",
       "        vertical-align: top;\n",
       "    }\n",
       "\n",
       "    .dataframe thead th {\n",
       "        text-align: right;\n",
       "    }\n",
       "</style>\n",
       "<table border=\"1\" class=\"dataframe\">\n",
       "  <thead>\n",
       "    <tr style=\"text-align: right;\">\n",
       "      <th></th>\n",
       "      <th>CreditScore</th>\n",
       "      <th>Geography</th>\n",
       "      <th>Gender</th>\n",
       "      <th>Age</th>\n",
       "      <th>Tenure</th>\n",
       "      <th>Balance</th>\n",
       "      <th>NumOfProducts</th>\n",
       "      <th>HasCrCard</th>\n",
       "      <th>IsActiveMember</th>\n",
       "      <th>EstimatedSalary</th>\n",
       "    </tr>\n",
       "  </thead>\n",
       "  <tbody>\n",
       "    <tr>\n",
       "      <th>9414</th>\n",
       "      <td>544</td>\n",
       "      <td>Spain</td>\n",
       "      <td>Female</td>\n",
       "      <td>53</td>\n",
       "      <td>9</td>\n",
       "      <td>0.00</td>\n",
       "      <td>1</td>\n",
       "      <td>1</td>\n",
       "      <td>0</td>\n",
       "      <td>125692.07</td>\n",
       "    </tr>\n",
       "    <tr>\n",
       "      <th>3363</th>\n",
       "      <td>747</td>\n",
       "      <td>Germany</td>\n",
       "      <td>Male</td>\n",
       "      <td>38</td>\n",
       "      <td>2</td>\n",
       "      <td>129728.60</td>\n",
       "      <td>1</td>\n",
       "      <td>1</td>\n",
       "      <td>0</td>\n",
       "      <td>89289.54</td>\n",
       "    </tr>\n",
       "    <tr>\n",
       "      <th>2979</th>\n",
       "      <td>642</td>\n",
       "      <td>France</td>\n",
       "      <td>Male</td>\n",
       "      <td>40</td>\n",
       "      <td>1</td>\n",
       "      <td>154863.15</td>\n",
       "      <td>1</td>\n",
       "      <td>1</td>\n",
       "      <td>1</td>\n",
       "      <td>138052.51</td>\n",
       "    </tr>\n",
       "    <tr>\n",
       "      <th>578</th>\n",
       "      <td>593</td>\n",
       "      <td>France</td>\n",
       "      <td>Female</td>\n",
       "      <td>41</td>\n",
       "      <td>6</td>\n",
       "      <td>0.00</td>\n",
       "      <td>1</td>\n",
       "      <td>1</td>\n",
       "      <td>0</td>\n",
       "      <td>65170.66</td>\n",
       "    </tr>\n",
       "    <tr>\n",
       "      <th>7984</th>\n",
       "      <td>464</td>\n",
       "      <td>France</td>\n",
       "      <td>Male</td>\n",
       "      <td>46</td>\n",
       "      <td>6</td>\n",
       "      <td>161798.53</td>\n",
       "      <td>1</td>\n",
       "      <td>1</td>\n",
       "      <td>0</td>\n",
       "      <td>182944.47</td>\n",
       "    </tr>\n",
       "  </tbody>\n",
       "</table>\n",
       "</div>"
      ],
      "text/plain": [
       "      CreditScore Geography  Gender  Age  Tenure    Balance  NumOfProducts  \\\n",
       "9414          544     Spain  Female   53       9       0.00              1   \n",
       "3363          747   Germany    Male   38       2  129728.60              1   \n",
       "2979          642    France    Male   40       1  154863.15              1   \n",
       "578           593    France  Female   41       6       0.00              1   \n",
       "7984          464    France    Male   46       6  161798.53              1   \n",
       "\n",
       "      HasCrCard  IsActiveMember  EstimatedSalary  \n",
       "9414          1               0        125692.07  \n",
       "3363          1               0         89289.54  \n",
       "2979          1               1        138052.51  \n",
       "578           1               0         65170.66  \n",
       "7984          1               0        182944.47  "
      ]
     },
     "execution_count": 34,
     "metadata": {},
     "output_type": "execute_result"
    }
   ],
   "source": [
    "# drop surname, CustomerId, and RowNumber\n",
    "drop_col = DropFeatures(features_to_drop=['Surname', 'CustomerId', 'RowNumber'])\n",
    "drop_col.fit(X_train)\n",
    "X_train = drop_col.transform(X_train)\n",
    "X_test = drop_col.transform(X_test)\n",
    "X_train.head()"
   ]
  },
  {
   "cell_type": "markdown",
   "id": "3093c888",
   "metadata": {},
   "source": [
    "**Label Encode the Gender Variable**"
   ]
  },
  {
   "cell_type": "code",
   "execution_count": 35,
   "id": "fe9397e6",
   "metadata": {
    "ExecuteTime": {
     "end_time": "2025-09-14T06:12:50.273057Z",
     "start_time": "2025-09-14T06:12:50.188106Z"
    }
   },
   "outputs": [
    {
     "name": "stdout",
     "output_type": "stream",
     "text": [
      "{'Gender': {'Male': 0, 'Female': 1}}\n"
     ]
    },
    {
     "data": {
      "text/html": [
       "<div>\n",
       "<style scoped>\n",
       "    .dataframe tbody tr th:only-of-type {\n",
       "        vertical-align: middle;\n",
       "    }\n",
       "\n",
       "    .dataframe tbody tr th {\n",
       "        vertical-align: top;\n",
       "    }\n",
       "\n",
       "    .dataframe thead th {\n",
       "        text-align: right;\n",
       "    }\n",
       "</style>\n",
       "<table border=\"1\" class=\"dataframe\">\n",
       "  <thead>\n",
       "    <tr style=\"text-align: right;\">\n",
       "      <th></th>\n",
       "      <th>CreditScore</th>\n",
       "      <th>Geography</th>\n",
       "      <th>Gender</th>\n",
       "      <th>Age</th>\n",
       "      <th>Tenure</th>\n",
       "      <th>Balance</th>\n",
       "      <th>NumOfProducts</th>\n",
       "      <th>HasCrCard</th>\n",
       "      <th>IsActiveMember</th>\n",
       "      <th>EstimatedSalary</th>\n",
       "    </tr>\n",
       "  </thead>\n",
       "  <tbody>\n",
       "    <tr>\n",
       "      <th>9414</th>\n",
       "      <td>544</td>\n",
       "      <td>Spain</td>\n",
       "      <td>1</td>\n",
       "      <td>53</td>\n",
       "      <td>9</td>\n",
       "      <td>0.00</td>\n",
       "      <td>1</td>\n",
       "      <td>1</td>\n",
       "      <td>0</td>\n",
       "      <td>125692.07</td>\n",
       "    </tr>\n",
       "    <tr>\n",
       "      <th>3363</th>\n",
       "      <td>747</td>\n",
       "      <td>Germany</td>\n",
       "      <td>0</td>\n",
       "      <td>38</td>\n",
       "      <td>2</td>\n",
       "      <td>129728.60</td>\n",
       "      <td>1</td>\n",
       "      <td>1</td>\n",
       "      <td>0</td>\n",
       "      <td>89289.54</td>\n",
       "    </tr>\n",
       "    <tr>\n",
       "      <th>2979</th>\n",
       "      <td>642</td>\n",
       "      <td>France</td>\n",
       "      <td>0</td>\n",
       "      <td>40</td>\n",
       "      <td>1</td>\n",
       "      <td>154863.15</td>\n",
       "      <td>1</td>\n",
       "      <td>1</td>\n",
       "      <td>1</td>\n",
       "      <td>138052.51</td>\n",
       "    </tr>\n",
       "    <tr>\n",
       "      <th>578</th>\n",
       "      <td>593</td>\n",
       "      <td>France</td>\n",
       "      <td>1</td>\n",
       "      <td>41</td>\n",
       "      <td>6</td>\n",
       "      <td>0.00</td>\n",
       "      <td>1</td>\n",
       "      <td>1</td>\n",
       "      <td>0</td>\n",
       "      <td>65170.66</td>\n",
       "    </tr>\n",
       "    <tr>\n",
       "      <th>7984</th>\n",
       "      <td>464</td>\n",
       "      <td>France</td>\n",
       "      <td>0</td>\n",
       "      <td>46</td>\n",
       "      <td>6</td>\n",
       "      <td>161798.53</td>\n",
       "      <td>1</td>\n",
       "      <td>1</td>\n",
       "      <td>0</td>\n",
       "      <td>182944.47</td>\n",
       "    </tr>\n",
       "  </tbody>\n",
       "</table>\n",
       "</div>"
      ],
      "text/plain": [
       "      CreditScore Geography  Gender  Age  Tenure    Balance  NumOfProducts  \\\n",
       "9414          544     Spain       1   53       9       0.00              1   \n",
       "3363          747   Germany       0   38       2  129728.60              1   \n",
       "2979          642    France       0   40       1  154863.15              1   \n",
       "578           593    France       1   41       6       0.00              1   \n",
       "7984          464    France       0   46       6  161798.53              1   \n",
       "\n",
       "      HasCrCard  IsActiveMember  EstimatedSalary  \n",
       "9414          1               0        125692.07  \n",
       "3363          1               0         89289.54  \n",
       "2979          1               1        138052.51  \n",
       "578           1               0         65170.66  \n",
       "7984          1               0        182944.47  "
      ]
     },
     "execution_count": 35,
     "metadata": {},
     "output_type": "execute_result"
    }
   ],
   "source": [
    "label_encoder = OrdinalEncoder(variables=['Gender'])\n",
    "label_encoder.fit(X_train, y_train)\n",
    "X_train = label_encoder.transform(X_train)\n",
    "X_test = label_encoder.transform(X_test)\n",
    "print(label_encoder.encoder_dict_)\n",
    "X_train.head()"
   ]
  },
  {
   "cell_type": "markdown",
   "id": "b438de9d",
   "metadata": {},
   "source": [
    "**One Hot Encode the Geography variable**"
   ]
  },
  {
   "cell_type": "code",
   "execution_count": 36,
   "id": "5006a49f",
   "metadata": {
    "ExecuteTime": {
     "end_time": "2025-09-14T06:12:52.952558Z",
     "start_time": "2025-09-14T06:12:52.841576Z"
    }
   },
   "outputs": [
    {
     "name": "stdout",
     "output_type": "stream",
     "text": [
      "{'Geography': ['Spain', 'Germany', 'France']}\n"
     ]
    },
    {
     "data": {
      "text/html": [
       "<div>\n",
       "<style scoped>\n",
       "    .dataframe tbody tr th:only-of-type {\n",
       "        vertical-align: middle;\n",
       "    }\n",
       "\n",
       "    .dataframe tbody tr th {\n",
       "        vertical-align: top;\n",
       "    }\n",
       "\n",
       "    .dataframe thead th {\n",
       "        text-align: right;\n",
       "    }\n",
       "</style>\n",
       "<table border=\"1\" class=\"dataframe\">\n",
       "  <thead>\n",
       "    <tr style=\"text-align: right;\">\n",
       "      <th></th>\n",
       "      <th>CreditScore</th>\n",
       "      <th>Gender</th>\n",
       "      <th>Age</th>\n",
       "      <th>Tenure</th>\n",
       "      <th>Balance</th>\n",
       "      <th>NumOfProducts</th>\n",
       "      <th>HasCrCard</th>\n",
       "      <th>IsActiveMember</th>\n",
       "      <th>EstimatedSalary</th>\n",
       "      <th>Geography_Spain</th>\n",
       "      <th>Geography_Germany</th>\n",
       "      <th>Geography_France</th>\n",
       "    </tr>\n",
       "  </thead>\n",
       "  <tbody>\n",
       "    <tr>\n",
       "      <th>9414</th>\n",
       "      <td>544</td>\n",
       "      <td>1</td>\n",
       "      <td>53</td>\n",
       "      <td>9</td>\n",
       "      <td>0.00</td>\n",
       "      <td>1</td>\n",
       "      <td>1</td>\n",
       "      <td>0</td>\n",
       "      <td>125692.07</td>\n",
       "      <td>1</td>\n",
       "      <td>0</td>\n",
       "      <td>0</td>\n",
       "    </tr>\n",
       "    <tr>\n",
       "      <th>3363</th>\n",
       "      <td>747</td>\n",
       "      <td>0</td>\n",
       "      <td>38</td>\n",
       "      <td>2</td>\n",
       "      <td>129728.60</td>\n",
       "      <td>1</td>\n",
       "      <td>1</td>\n",
       "      <td>0</td>\n",
       "      <td>89289.54</td>\n",
       "      <td>0</td>\n",
       "      <td>1</td>\n",
       "      <td>0</td>\n",
       "    </tr>\n",
       "    <tr>\n",
       "      <th>2979</th>\n",
       "      <td>642</td>\n",
       "      <td>0</td>\n",
       "      <td>40</td>\n",
       "      <td>1</td>\n",
       "      <td>154863.15</td>\n",
       "      <td>1</td>\n",
       "      <td>1</td>\n",
       "      <td>1</td>\n",
       "      <td>138052.51</td>\n",
       "      <td>0</td>\n",
       "      <td>0</td>\n",
       "      <td>1</td>\n",
       "    </tr>\n",
       "    <tr>\n",
       "      <th>578</th>\n",
       "      <td>593</td>\n",
       "      <td>1</td>\n",
       "      <td>41</td>\n",
       "      <td>6</td>\n",
       "      <td>0.00</td>\n",
       "      <td>1</td>\n",
       "      <td>1</td>\n",
       "      <td>0</td>\n",
       "      <td>65170.66</td>\n",
       "      <td>0</td>\n",
       "      <td>0</td>\n",
       "      <td>1</td>\n",
       "    </tr>\n",
       "    <tr>\n",
       "      <th>7984</th>\n",
       "      <td>464</td>\n",
       "      <td>0</td>\n",
       "      <td>46</td>\n",
       "      <td>6</td>\n",
       "      <td>161798.53</td>\n",
       "      <td>1</td>\n",
       "      <td>1</td>\n",
       "      <td>0</td>\n",
       "      <td>182944.47</td>\n",
       "      <td>0</td>\n",
       "      <td>0</td>\n",
       "      <td>1</td>\n",
       "    </tr>\n",
       "  </tbody>\n",
       "</table>\n",
       "</div>"
      ],
      "text/plain": [
       "      CreditScore  Gender  Age  Tenure    Balance  NumOfProducts  HasCrCard  \\\n",
       "9414          544       1   53       9       0.00              1          1   \n",
       "3363          747       0   38       2  129728.60              1          1   \n",
       "2979          642       0   40       1  154863.15              1          1   \n",
       "578           593       1   41       6       0.00              1          1   \n",
       "7984          464       0   46       6  161798.53              1          1   \n",
       "\n",
       "      IsActiveMember  EstimatedSalary  Geography_Spain  Geography_Germany  \\\n",
       "9414               0        125692.07                1                  0   \n",
       "3363               0         89289.54                0                  1   \n",
       "2979               1        138052.51                0                  0   \n",
       "578                0         65170.66                0                  0   \n",
       "7984               0        182944.47                0                  0   \n",
       "\n",
       "      Geography_France  \n",
       "9414                 0  \n",
       "3363                 0  \n",
       "2979                 1  \n",
       "578                  1  \n",
       "7984                 1  "
      ]
     },
     "execution_count": 36,
     "metadata": {},
     "output_type": "execute_result"
    }
   ],
   "source": [
    "ohe_encoder = OneHotEncoder(variables=['Geography'])\n",
    "ohe_encoder.fit(X_train)\n",
    "X_train = ohe_encoder.transform(X_train)\n",
    "X_test = ohe_encoder.transform(X_test)\n",
    "print(ohe_encoder.encoder_dict_)\n",
    "X_train.head()"
   ]
  },
  {
   "cell_type": "markdown",
   "id": "fb19989b",
   "metadata": {},
   "source": [
    "**apply log transformation on the Age column**"
   ]
  },
  {
   "cell_type": "code",
   "execution_count": 37,
   "id": "84ba11fa",
   "metadata": {
    "ExecuteTime": {
     "end_time": "2025-09-14T06:12:55.146690Z",
     "start_time": "2025-09-14T06:12:55.063774Z"
    }
   },
   "outputs": [
    {
     "data": {
      "text/html": [
       "<div>\n",
       "<style scoped>\n",
       "    .dataframe tbody tr th:only-of-type {\n",
       "        vertical-align: middle;\n",
       "    }\n",
       "\n",
       "    .dataframe tbody tr th {\n",
       "        vertical-align: top;\n",
       "    }\n",
       "\n",
       "    .dataframe thead th {\n",
       "        text-align: right;\n",
       "    }\n",
       "</style>\n",
       "<table border=\"1\" class=\"dataframe\">\n",
       "  <thead>\n",
       "    <tr style=\"text-align: right;\">\n",
       "      <th></th>\n",
       "      <th>CreditScore</th>\n",
       "      <th>Gender</th>\n",
       "      <th>Age</th>\n",
       "      <th>Tenure</th>\n",
       "      <th>Balance</th>\n",
       "      <th>NumOfProducts</th>\n",
       "      <th>HasCrCard</th>\n",
       "      <th>IsActiveMember</th>\n",
       "      <th>EstimatedSalary</th>\n",
       "      <th>Geography_Spain</th>\n",
       "      <th>Geography_Germany</th>\n",
       "      <th>Geography_France</th>\n",
       "    </tr>\n",
       "  </thead>\n",
       "  <tbody>\n",
       "    <tr>\n",
       "      <th>9414</th>\n",
       "      <td>544</td>\n",
       "      <td>1</td>\n",
       "      <td>3.970292</td>\n",
       "      <td>9</td>\n",
       "      <td>0.00</td>\n",
       "      <td>1</td>\n",
       "      <td>1</td>\n",
       "      <td>0</td>\n",
       "      <td>125692.07</td>\n",
       "      <td>1</td>\n",
       "      <td>0</td>\n",
       "      <td>0</td>\n",
       "    </tr>\n",
       "    <tr>\n",
       "      <th>3363</th>\n",
       "      <td>747</td>\n",
       "      <td>0</td>\n",
       "      <td>3.637586</td>\n",
       "      <td>2</td>\n",
       "      <td>129728.60</td>\n",
       "      <td>1</td>\n",
       "      <td>1</td>\n",
       "      <td>0</td>\n",
       "      <td>89289.54</td>\n",
       "      <td>0</td>\n",
       "      <td>1</td>\n",
       "      <td>0</td>\n",
       "    </tr>\n",
       "    <tr>\n",
       "      <th>2979</th>\n",
       "      <td>642</td>\n",
       "      <td>0</td>\n",
       "      <td>3.688879</td>\n",
       "      <td>1</td>\n",
       "      <td>154863.15</td>\n",
       "      <td>1</td>\n",
       "      <td>1</td>\n",
       "      <td>1</td>\n",
       "      <td>138052.51</td>\n",
       "      <td>0</td>\n",
       "      <td>0</td>\n",
       "      <td>1</td>\n",
       "    </tr>\n",
       "    <tr>\n",
       "      <th>578</th>\n",
       "      <td>593</td>\n",
       "      <td>1</td>\n",
       "      <td>3.713572</td>\n",
       "      <td>6</td>\n",
       "      <td>0.00</td>\n",
       "      <td>1</td>\n",
       "      <td>1</td>\n",
       "      <td>0</td>\n",
       "      <td>65170.66</td>\n",
       "      <td>0</td>\n",
       "      <td>0</td>\n",
       "      <td>1</td>\n",
       "    </tr>\n",
       "    <tr>\n",
       "      <th>7984</th>\n",
       "      <td>464</td>\n",
       "      <td>0</td>\n",
       "      <td>3.828641</td>\n",
       "      <td>6</td>\n",
       "      <td>161798.53</td>\n",
       "      <td>1</td>\n",
       "      <td>1</td>\n",
       "      <td>0</td>\n",
       "      <td>182944.47</td>\n",
       "      <td>0</td>\n",
       "      <td>0</td>\n",
       "      <td>1</td>\n",
       "    </tr>\n",
       "  </tbody>\n",
       "</table>\n",
       "</div>"
      ],
      "text/plain": [
       "      CreditScore  Gender       Age  Tenure    Balance  NumOfProducts  \\\n",
       "9414          544       1  3.970292       9       0.00              1   \n",
       "3363          747       0  3.637586       2  129728.60              1   \n",
       "2979          642       0  3.688879       1  154863.15              1   \n",
       "578           593       1  3.713572       6       0.00              1   \n",
       "7984          464       0  3.828641       6  161798.53              1   \n",
       "\n",
       "      HasCrCard  IsActiveMember  EstimatedSalary  Geography_Spain  \\\n",
       "9414          1               0        125692.07                1   \n",
       "3363          1               0         89289.54                0   \n",
       "2979          1               1        138052.51                0   \n",
       "578           1               0         65170.66                0   \n",
       "7984          1               0        182944.47                0   \n",
       "\n",
       "      Geography_Germany  Geography_France  \n",
       "9414                  0                 0  \n",
       "3363                  1                 0  \n",
       "2979                  0                 1  \n",
       "578                   0                 1  \n",
       "7984                  0                 1  "
      ]
     },
     "execution_count": 37,
     "metadata": {},
     "output_type": "execute_result"
    }
   ],
   "source": [
    "log_tranformer = LogTransformer(variables=['Age'])\n",
    "log_tranformer.fit(X_train)\n",
    "X_train = log_tranformer.transform(X_train)\n",
    "X_test = log_tranformer.transform(X_test)\n",
    "X_train.head()"
   ]
  },
  {
   "cell_type": "markdown",
   "id": "a6c0658d",
   "metadata": {},
   "source": [
    "**Binarize the Balance column**"
   ]
  },
  {
   "cell_type": "code",
   "execution_count": 38,
   "id": "7b1a66ba",
   "metadata": {
    "ExecuteTime": {
     "end_time": "2025-09-14T06:13:29.960051Z",
     "start_time": "2025-09-14T06:13:29.927986Z"
    }
   },
   "outputs": [],
   "source": [
    "binarizer = SklearnTransformerWrapper(Binarizer(threshold=0), variables=['Balance'])\n",
    "binarizer.fit(X_train)\n",
    "X_train = binarizer.transform(X_train)\n",
    "X_test = binarizer.transform(X_test)"
   ]
  },
  {
   "cell_type": "markdown",
   "id": "d35ff77f",
   "metadata": {},
   "source": [
    "**Scale the input features**"
   ]
  },
  {
   "cell_type": "code",
   "execution_count": 39,
   "id": "81c6948b",
   "metadata": {
    "ExecuteTime": {
     "end_time": "2025-09-14T06:13:36.801639Z",
     "start_time": "2025-09-14T06:13:36.778166Z"
    }
   },
   "outputs": [],
   "source": [
    "# lastly we scale the input features\n",
    "scaler  = MinMaxScaler()\n",
    "scaler.fit(X_train)\n",
    "X_train = scaler.transform(X_train)\n",
    "X_test = scaler.transform(X_test)"
   ]
  },
  {
   "cell_type": "code",
   "execution_count": 40,
   "id": "7d672488",
   "metadata": {
    "ExecuteTime": {
     "end_time": "2025-09-14T06:13:38.189353Z",
     "start_time": "2025-09-14T06:13:38.180909Z"
    }
   },
   "outputs": [],
   "source": [
    "features = scaler.get_feature_names_out()\n",
    "X_train = pd.DataFrame(X_train, columns=features)\n",
    "X_test = pd.DataFrame(X_test, columns=features)\n"
   ]
  },
  {
   "cell_type": "code",
   "execution_count": 41,
   "id": "47534931",
   "metadata": {
    "ExecuteTime": {
     "end_time": "2025-09-14T06:13:40.639730Z",
     "start_time": "2025-09-14T06:13:40.592946Z"
    }
   },
   "outputs": [
    {
     "data": {
      "text/html": [
       "<div>\n",
       "<style scoped>\n",
       "    .dataframe tbody tr th:only-of-type {\n",
       "        vertical-align: middle;\n",
       "    }\n",
       "\n",
       "    .dataframe tbody tr th {\n",
       "        vertical-align: top;\n",
       "    }\n",
       "\n",
       "    .dataframe thead th {\n",
       "        text-align: right;\n",
       "    }\n",
       "</style>\n",
       "<table border=\"1\" class=\"dataframe\">\n",
       "  <thead>\n",
       "    <tr style=\"text-align: right;\">\n",
       "      <th></th>\n",
       "      <th>CreditScore</th>\n",
       "      <th>Gender</th>\n",
       "      <th>Age</th>\n",
       "      <th>Tenure</th>\n",
       "      <th>Balance</th>\n",
       "      <th>NumOfProducts</th>\n",
       "      <th>HasCrCard</th>\n",
       "      <th>IsActiveMember</th>\n",
       "      <th>EstimatedSalary</th>\n",
       "      <th>Geography_Spain</th>\n",
       "      <th>Geography_Germany</th>\n",
       "      <th>Geography_France</th>\n",
       "    </tr>\n",
       "  </thead>\n",
       "  <tbody>\n",
       "    <tr>\n",
       "      <th>0</th>\n",
       "      <td>0.388</td>\n",
       "      <td>1.0</td>\n",
       "      <td>0.661952</td>\n",
       "      <td>0.9</td>\n",
       "      <td>0.0</td>\n",
       "      <td>0.0</td>\n",
       "      <td>1.0</td>\n",
       "      <td>0.0</td>\n",
       "      <td>0.628462</td>\n",
       "      <td>1.0</td>\n",
       "      <td>0.0</td>\n",
       "      <td>0.0</td>\n",
       "    </tr>\n",
       "    <tr>\n",
       "      <th>1</th>\n",
       "      <td>0.794</td>\n",
       "      <td>0.0</td>\n",
       "      <td>0.458016</td>\n",
       "      <td>0.2</td>\n",
       "      <td>1.0</td>\n",
       "      <td>0.0</td>\n",
       "      <td>1.0</td>\n",
       "      <td>0.0</td>\n",
       "      <td>0.446432</td>\n",
       "      <td>0.0</td>\n",
       "      <td>1.0</td>\n",
       "      <td>0.0</td>\n",
       "    </tr>\n",
       "    <tr>\n",
       "      <th>2</th>\n",
       "      <td>0.584</td>\n",
       "      <td>0.0</td>\n",
       "      <td>0.489457</td>\n",
       "      <td>0.1</td>\n",
       "      <td>1.0</td>\n",
       "      <td>0.0</td>\n",
       "      <td>1.0</td>\n",
       "      <td>1.0</td>\n",
       "      <td>0.690271</td>\n",
       "      <td>0.0</td>\n",
       "      <td>0.0</td>\n",
       "      <td>1.0</td>\n",
       "    </tr>\n",
       "    <tr>\n",
       "      <th>3</th>\n",
       "      <td>0.486</td>\n",
       "      <td>1.0</td>\n",
       "      <td>0.504592</td>\n",
       "      <td>0.6</td>\n",
       "      <td>0.0</td>\n",
       "      <td>0.0</td>\n",
       "      <td>1.0</td>\n",
       "      <td>0.0</td>\n",
       "      <td>0.325827</td>\n",
       "      <td>0.0</td>\n",
       "      <td>0.0</td>\n",
       "      <td>1.0</td>\n",
       "    </tr>\n",
       "    <tr>\n",
       "      <th>4</th>\n",
       "      <td>0.228</td>\n",
       "      <td>0.0</td>\n",
       "      <td>0.575126</td>\n",
       "      <td>0.6</td>\n",
       "      <td>1.0</td>\n",
       "      <td>0.0</td>\n",
       "      <td>1.0</td>\n",
       "      <td>0.0</td>\n",
       "      <td>0.914752</td>\n",
       "      <td>0.0</td>\n",
       "      <td>0.0</td>\n",
       "      <td>1.0</td>\n",
       "    </tr>\n",
       "  </tbody>\n",
       "</table>\n",
       "</div>"
      ],
      "text/plain": [
       "   CreditScore  Gender       Age  Tenure  Balance  NumOfProducts  HasCrCard  \\\n",
       "0        0.388     1.0  0.661952     0.9      0.0            0.0        1.0   \n",
       "1        0.794     0.0  0.458016     0.2      1.0            0.0        1.0   \n",
       "2        0.584     0.0  0.489457     0.1      1.0            0.0        1.0   \n",
       "3        0.486     1.0  0.504592     0.6      0.0            0.0        1.0   \n",
       "4        0.228     0.0  0.575126     0.6      1.0            0.0        1.0   \n",
       "\n",
       "   IsActiveMember  EstimatedSalary  Geography_Spain  Geography_Germany  \\\n",
       "0             0.0         0.628462              1.0                0.0   \n",
       "1             0.0         0.446432              0.0                1.0   \n",
       "2             1.0         0.690271              0.0                0.0   \n",
       "3             0.0         0.325827              0.0                0.0   \n",
       "4             0.0         0.914752              0.0                0.0   \n",
       "\n",
       "   Geography_France  \n",
       "0               0.0  \n",
       "1               0.0  \n",
       "2               1.0  \n",
       "3               1.0  \n",
       "4               1.0  "
      ]
     },
     "execution_count": 41,
     "metadata": {},
     "output_type": "execute_result"
    }
   ],
   "source": [
    "X_train.head()"
   ]
  },
  {
   "cell_type": "code",
   "execution_count": 42,
   "id": "f212ed48",
   "metadata": {
    "ExecuteTime": {
     "end_time": "2025-09-14T06:13:47.332612Z",
     "start_time": "2025-09-14T06:13:42.843542Z"
    }
   },
   "outputs": [
    {
     "data": {
      "image/png": "[encoded data removed]",
      "text/plain": [
       "<Figure size 1600x1600 with 12 Axes>"
      ]
     },
     "metadata": {},
     "output_type": "display_data"
    }
   ],
   "source": [
    "fig, ax = plt.subplots(figsize=(16,16))\n",
    "X_train.hist(ax= ax)\n",
    "plt.show()"
   ]
  },
  {
   "cell_type": "markdown",
   "id": "1f634399",
   "metadata": {},
   "source": [
    "From the above distribution graph, we can see that all features are on the same scale ranging from zero to one."
   ]
  },
  {
   "cell_type": "markdown",
   "id": "a5b81277",
   "metadata": {},
   "source": [
    "**Tackling Imbalance in the Dataset**"
   ]
  },
  {
   "cell_type": "code",
   "execution_count": 14,
   "id": "64e54b17",
   "metadata": {
    "ExecuteTime": {
     "end_time": "2025-09-12T08:22:39.850026Z",
     "start_time": "2025-09-12T08:22:39.757501Z"
    }
   },
   "outputs": [],
   "source": [
    "smote = SMOTE(random_state=0)\n",
    "X_train_resampled, y_train_resampled = smote.fit_resample(X_train, y_train)"
   ]
  },
  {
   "cell_type": "code",
   "execution_count": 15,
   "id": "3534f6b2",
   "metadata": {
    "ExecuteTime": {
     "end_time": "2025-09-12T08:22:40.899268Z",
     "start_time": "2025-09-12T08:22:40.881315Z"
    }
   },
   "outputs": [
    {
     "name": "stdout",
     "output_type": "stream",
     "text": [
      "Distribution of churn before SMOTE:  Exited\n",
      "0    0.796267\n",
      "1    0.203733\n",
      "Name: proportion, dtype: float64\n",
      "Distribution of churn after SMOTE:  Exited\n",
      "1    0.5\n",
      "0    0.5\n",
      "Name: proportion, dtype: float64\n"
     ]
    }
   ],
   "source": [
    "print(\"Distribution of churn before SMOTE: \", y_train.value_counts(normalize=True))\n",
    "print(\"Distribution of churn after SMOTE: \", y_train_resampled.value_counts(normalize=True))\n"
   ]
  },
  {
   "cell_type": "markdown",
   "id": "a04f467d",
   "metadata": {},
   "source": [
    "# Model Building "
   ]
  },
  {
   "cell_type": "markdown",
   "id": "8cfcdd6f",
   "metadata": {},
   "source": [
    "I will be training up different model on both the unsampled training dataset and the resampled training dataset. The following classic machine learning models:\n",
    "- Logistic Regression\n",
    "- Random Forest Tree\n",
    "- Gradient Boost\n",
    "- SVM\n",
    "\n",
    "we will also Use an artificial Neural network (ANN) algorithm to train our datasets"
   ]
  },
  {
   "cell_type": "code",
   "execution_count": 16,
   "id": "6fa674e1",
   "metadata": {
    "ExecuteTime": {
     "end_time": "2025-09-12T08:22:44.824094Z",
     "start_time": "2025-09-12T08:22:44.811752Z"
    }
   },
   "outputs": [],
   "source": [
    "# Define a list of classifiers to use\n",
    "classifiers = [\n",
    "    LogisticRegression(),\n",
    "    RandomForestClassifier(),\n",
    "    GradientBoostingClassifier(),\n",
    "    SVC()\n",
    "]\n",
    "\n",
    "# Define parameters for each classifier\n",
    "param_grids = [\n",
    "    {'penalty': ['l1', 'l2'], 'C': [0.1, 1, 10]},\n",
    "    {'max_depth': [3,4,5], 'n_estimators': [100,200,500], 'max_features': ['sqrt', 'log2', None]},\n",
    "    {'max_depth': [3, 4, 5], 'min_samples_split': [2, 5, 10], 'n_estimators': [50, 100, 200], 'learning_rate': [0.1, 0.5, 1]},\n",
    "    {'C': [0.1, 1, 10], 'kernel': ['linear', 'rbf', 'poly'], 'gamma': ['scale', 0.01, 0.1, 1]}\n",
    "]"
   ]
  },
  {
   "cell_type": "markdown",
   "id": "b0babb0a",
   "metadata": {},
   "source": [
    "**Hyperparameter Tunning with Grid Search**"
   ]
  },
  {
   "cell_type": "code",
   "execution_count": 18,
   "id": "852c4855",
   "metadata": {
    "ExecuteTime": {
     "end_time": "2025-09-12T14:19:33.758735Z",
     "start_time": "2025-09-12T13:58:07.112951Z"
    }
   },
   "outputs": [
    {
     "name": "stdout",
     "output_type": "stream",
     "text": [
      "Training on LogisticRegression()\n",
      "Best parameter for classifier0: {'C': 10, 'penalty': 'l2'}\n",
      "Training accuracy for classifier 0: 0.8153333333333334\n",
      "=======================================================================\n",
      "\n",
      "Training on RandomForestClassifier()\n",
      "Best parameter for classifier1: {'max_depth': 5, 'max_features': None, 'n_estimators': 100}\n",
      "Training accuracy for classifier 1: 0.8628\n",
      "=======================================================================\n",
      "\n",
      "Training on GradientBoostingClassifier()\n",
      "Best parameter for classifier2: {'learning_rate': 0.1, 'max_depth': 3, 'min_samples_split': 10, 'n_estimators': 100}\n",
      "Training accuracy for classifier 2: 0.8718666666666667\n",
      "=======================================================================\n",
      "\n",
      "Training on SVC()\n",
      "Best parameter for classifier3: {'C': 1, 'gamma': 1, 'kernel': 'poly'}\n",
      "Training accuracy for classifier 3: 0.8614666666666667\n",
      "=======================================================================\n",
      "\n"
     ]
    }
   ],
   "source": [
    "cv = StratifiedKFold(n_splits=5, shuffle=True, random_state=0)\n",
    "for i, clf in enumerate(classifiers):\n",
    "    grid_search = GridSearchCV(clf, param_grid=param_grids[i], \n",
    "                               scoring='accuracy', cv=cv)\n",
    "    print(f\"Training on {clf}\")\n",
    "    grid_search.fit(X_train, y_train)\n",
    "    \n",
    "    print(f\"Best parameter for classifier{i}: {grid_search.best_params_}\")\n",
    "    print(f\"Training accuracy for classifier {i}: {grid_search.score(X_train, y_train)}\")\n",
    "    print(\"=======================================================================\")\n",
    "    print()"
   ]
  },
  {
   "cell_type": "code",
   "execution_count": 19,
   "id": "5c6c37a1",
   "metadata": {
    "ExecuteTime": {
     "end_time": "2025-09-12T14:42:32.106670Z",
     "start_time": "2025-09-12T14:20:26.586025Z"
    }
   },
   "outputs": [
    {
     "name": "stdout",
     "output_type": "stream",
     "text": [
      "Training on LogisticRegression()\n",
      "Best parameter for classifier0: {'C': 10, 'penalty': 'l2'}\n",
      "Training accuracy for classifier 0: 0.5906731413261889\n",
      "=======================================================================\n",
      "\n",
      "Training on RandomForestClassifier()\n",
      "Best parameter for classifier1: {'max_depth': 5, 'max_features': None, 'n_estimators': 100}\n",
      "Training accuracy for classifier 1: 0.6998492967180174\n",
      "=======================================================================\n",
      "\n",
      "Training on GradientBoostingClassifier()\n",
      "Best parameter for classifier2: {'learning_rate': 0.1, 'max_depth': 3, 'min_samples_split': 10, 'n_estimators': 100}\n",
      "Training accuracy for classifier 2: 0.7227896851975888\n",
      "=======================================================================\n",
      "\n",
      "Training on SVC()\n",
      "Best parameter for classifier3: {'C': 1, 'gamma': 1, 'kernel': 'poly'}\n",
      "Training accuracy for classifier 3: 0.681932350971199\n",
      "=======================================================================\n",
      "\n"
     ]
    }
   ],
   "source": [
    "cv = StratifiedKFold(n_splits=5, shuffle=True, random_state=0)\n",
    "for i, clf in enumerate(classifiers):\n",
    "    grid_search = GridSearchCV(clf, param_grid=param_grids[i], \n",
    "                               scoring='accuracy', cv=cv)\n",
    "    print(f\"Training on {clf}\")\n",
    "    grid_search.fit(X_train, y_train)\n",
    "    \n",
    "    print(f\"Best parameter for classifier{i}: {grid_search.best_params_}\")\n",
    "    print(f\"Training accuracy for classifier {i}: {grid_search.score(X_train_resampled, y_train_resampled)}\")\n",
    "    print(\"=======================================================================\")\n",
    "    print()"
   ]
  },
  {
   "cell_type": "code",
   "execution_count": 20,
   "id": "dda51aae",
   "metadata": {
    "ExecuteTime": {
     "end_time": "2025-09-13T05:47:36.848504Z",
     "start_time": "2025-09-13T05:47:36.834703Z"
    }
   },
   "outputs": [],
   "source": [
    "base_accuracy = y_train.value_counts(normalize=True).values.max()"
   ]
  },
  {
   "cell_type": "code",
   "execution_count": 23,
   "id": "5330a32b",
   "metadata": {
    "ExecuteTime": {
     "end_time": "2025-09-13T05:48:33.235333Z",
     "start_time": "2025-09-13T05:48:33.224868Z"
    }
   },
   "outputs": [
    {
     "data": {
      "text/plain": [
       "80"
      ]
     },
     "execution_count": 23,
     "metadata": {},
     "output_type": "execute_result"
    }
   ],
   "source": [
    "round(base_accuracy*100)"
   ]
  },
  {
   "cell_type": "markdown",
   "id": "538f9eca",
   "metadata": {},
   "source": [
    "## Model Evaluation"
   ]
  },
  {
   "cell_type": "code",
   "execution_count": 87,
   "id": "ac3402e5",
   "metadata": {
    "ExecuteTime": {
     "end_time": "2025-09-15T07:09:52.834964Z",
     "start_time": "2025-09-15T07:09:52.822061Z"
    }
   },
   "outputs": [],
   "source": [
    "logistic_reg = LogisticRegression(C=10, penalty='l2')\n",
    "random_forest = RandomForestClassifier(max_depth=5, n_estimators=100, max_features=None)\n",
    "gradient_boost = GradientBoostingClassifier(learning_rate=0.1, max_depth=3, n_estimators=100, min_samples_split=10)\n",
    "svc = SVC(C=1, gamma=1, kernel='poly')"
   ]
  },
  {
   "cell_type": "code",
   "execution_count": 88,
   "id": "14f525f2",
   "metadata": {
    "ExecuteTime": {
     "end_time": "2025-09-15T07:10:11.949476Z",
     "start_time": "2025-09-15T07:09:56.925693Z"
    }
   },
   "outputs": [
    {
     "data": {
      "text/html": [
       "<style>#sk-container-id-3 {\n",
       "  /* Definition of color scheme common for light and dark mode */\n",
       "  --sklearn-color-text: #000;\n",
       "  --sklearn-color-text-muted: #666;\n",
       "  --sklearn-color-line: gray;\n",
       "  /* Definition of color scheme for unfitted estimators */\n",
       "  --sklearn-color-unfitted-level-0: #fff5e6;\n",
       "  --sklearn-color-unfitted-level-1: #f6e4d2;\n",
       "  --sklearn-color-unfitted-level-2: #ffe0b3;\n",
       "  --sklearn-color-unfitted-level-3: chocolate;\n",
       "  /* Definition of color scheme for fitted estimators */\n",
       "  --sklearn-color-fitted-level-0: #f0f8ff;\n",
       "  --sklearn-color-fitted-level-1: #d4ebff;\n",
       "  --sklearn-color-fitted-level-2: #b3dbfd;\n",
       "  --sklearn-color-fitted-level-3: cornflowerblue;\n",
       "\n",
       "  /* Specific color for light theme */\n",
       "  --sklearn-color-text-on-default-background: var(--sg-text-color, var(--theme-code-foreground, var(--jp-content-font-color1, black)));\n",
       "  --sklearn-color-background: var(--sg-background-color, var(--theme-background, var(--jp-layout-color0, white)));\n",
       "  --sklearn-color-border-box: var(--sg-text-color, var(--theme-code-foreground, var(--jp-content-font-color1, black)));\n",
       "  --sklearn-color-icon: #696969;\n",
       "\n",
       "  @media (prefers-color-scheme: dark) {\n",
       "    /* Redefinition of color scheme for dark theme */\n",
       "    --sklearn-color-text-on-default-background: var(--sg-text-color, var(--theme-code-foreground, var(--jp-content-font-color1, white)));\n",
       "    --sklearn-color-background: var(--sg-background-color, var(--theme-background, var(--jp-layout-color0, #111)));\n",
       "    --sklearn-color-border-box: var(--sg-text-color, var(--theme-code-foreground, var(--jp-content-font-color1, white)));\n",
       "    --sklearn-color-icon: #878787;\n",
       "  }\n",
       "}\n",
       "\n",
       "#sk-container-id-3 {\n",
       "  color: var(--sklearn-color-text);\n",
       "}\n",
       "\n",
       "#sk-container-id-3 pre {\n",
       "  padding: 0;\n",
       "}\n",
       "\n",
       "#sk-container-id-3 input.sk-hidden--visually {\n",
       "  border: 0;\n",
       "  clip: rect(1px 1px 1px 1px);\n",
       "  clip: rect(1px, 1px, 1px, 1px);\n",
       "  height: 1px;\n",
       "  margin: -1px;\n",
       "  overflow: hidden;\n",
       "  padding: 0;\n",
       "  position: absolute;\n",
       "  width: 1px;\n",
       "}\n",
       "\n",
       "#sk-container-id-3 div.sk-dashed-wrapped {\n",
       "  border: 1px dashed var(--sklearn-color-line);\n",
       "  margin: 0 0.4em 0.5em 0.4em;\n",
       "  box-sizing: border-box;\n",
       "  padding-bottom: 0.4em;\n",
       "  background-color: var(--sklearn-color-background);\n",
       "}\n",
       "\n",
       "#sk-container-id-3 div.sk-container {\n",
       "  /* jupyter's `normalize.less` sets `[hidden] { display: none; }`\n",
       "     but bootstrap.min.css set `[hidden] { display: none !important; }`\n",
       "     so we also need the `!important` here to be able to override the\n",
       "     default hidden behavior on the sphinx rendered scikit-learn.org.\n",
       "     See: https://github.com/scikit-learn/scikit-learn/issues/21755 */\n",
       "  display: inline-block !important;\n",
       "  position: relative;\n",
       "}\n",
       "\n",
       "#sk-container-id-3 div.sk-text-repr-fallback {\n",
       "  display: none;\n",
       "}\n",
       "\n",
       "div.sk-parallel-item,\n",
       "div.sk-serial,\n",
       "div.sk-item {\n",
       "  /* draw centered vertical line to link estimators */\n",
       "  background-image: linear-gradient(var(--sklearn-color-text-on-default-background), var(--sklearn-color-text-on-default-background));\n",
       "  background-size: 2px 100%;\n",
       "  background-repeat: no-repeat;\n",
       "  background-position: center center;\n",
       "}\n",
       "\n",
       "/* Parallel-specific style estimator block */\n",
       "\n",
       "#sk-container-id-3 div.sk-parallel-item::after {\n",
       "  content: \"\";\n",
       "  width: 100%;\n",
       "  border-bottom: 2px solid var(--sklearn-color-text-on-default-background);\n",
       "  flex-grow: 1;\n",
       "}\n",
       "\n",
       "#sk-container-id-3 div.sk-parallel {\n",
       "  display: flex;\n",
       "  align-items: stretch;\n",
       "  justify-content: center;\n",
       "  background-color: var(--sklearn-color-background);\n",
       "  position: relative;\n",
       "}\n",
       "\n",
       "#sk-container-id-3 div.sk-parallel-item {\n",
       "  display: flex;\n",
       "  flex-direction: column;\n",
       "}\n",
       "\n",
       "#sk-container-id-3 div.sk-parallel-item:first-child::after {\n",
       "  align-self: flex-end;\n",
       "  width: 50%;\n",
       "}\n",
       "\n",
       "#sk-container-id-3 div.sk-parallel-item:last-child::after {\n",
       "  align-self: flex-start;\n",
       "  width: 50%;\n",
       "}\n",
       "\n",
       "#sk-container-id-3 div.sk-parallel-item:only-child::after {\n",
       "  width: 0;\n",
       "}\n",
       "\n",
       "/* Serial-specific style estimator block */\n",
       "\n",
       "#sk-container-id-3 div.sk-serial {\n",
       "  display: flex;\n",
       "  flex-direction: column;\n",
       "  align-items: center;\n",
       "  background-color: var(--sklearn-color-background);\n",
       "  padding-right: 1em;\n",
       "  padding-left: 1em;\n",
       "}\n",
       "\n",
       "\n",
       "/* Toggleable style: style used for estimator/Pipeline/ColumnTransformer box that is\n",
       "clickable and can be expanded/collapsed.\n",
       "- Pipeline and ColumnTransformer use this feature and define the default style\n",
       "- Estimators will overwrite some part of the style using the `sk-estimator` class\n",
       "*/\n",
       "\n",
       "/* Pipeline and ColumnTransformer style (default) */\n",
       "\n",
       "#sk-container-id-3 div.sk-toggleable {\n",
       "  /* Default theme specific background. It is overwritten whether we have a\n",
       "  specific estimator or a Pipeline/ColumnTransformer */\n",
       "  background-color: var(--sklearn-color-background);\n",
       "}\n",
       "\n",
       "/* Toggleable label */\n",
       "#sk-container-id-3 label.sk-toggleable__label {\n",
       "  cursor: pointer;\n",
       "  display: flex;\n",
       "  width: 100%;\n",
       "  margin-bottom: 0;\n",
       "  padding: 0.5em;\n",
       "  box-sizing: border-box;\n",
       "  text-align: center;\n",
       "  align-items: start;\n",
       "  justify-content: space-between;\n",
       "  gap: 0.5em;\n",
       "}\n",
       "\n",
       "#sk-container-id-3 label.sk-toggleable__label .caption {\n",
       "  font-size: 0.6rem;\n",
       "  font-weight: lighter;\n",
       "  color: var(--sklearn-color-text-muted);\n",
       "}\n",
       "\n",
       "#sk-container-id-3 label.sk-toggleable__label-arrow:before {\n",
       "  /* Arrow on the left of the label */\n",
       "  content: \"▸\";\n",
       "  float: left;\n",
       "  margin-right: 0.25em;\n",
       "  color: var(--sklearn-color-icon);\n",
       "}\n",
       "\n",
       "#sk-container-id-3 label.sk-toggleable__label-arrow:hover:before {\n",
       "  color: var(--sklearn-color-text);\n",
       "}\n",
       "\n",
       "/* Toggleable content - dropdown */\n",
       "\n",
       "#sk-container-id-3 div.sk-toggleable__content {\n",
       "  max-height: 0;\n",
       "  max-width: 0;\n",
       "  overflow: hidden;\n",
       "  text-align: left;\n",
       "  /* unfitted */\n",
       "  background-color: var(--sklearn-color-unfitted-level-0);\n",
       "}\n",
       "\n",
       "#sk-container-id-3 div.sk-toggleable__content.fitted {\n",
       "  /* fitted */\n",
       "  background-color: var(--sklearn-color-fitted-level-0);\n",
       "}\n",
       "\n",
       "#sk-container-id-3 div.sk-toggleable__content pre {\n",
       "  margin: 0.2em;\n",
       "  border-radius: 0.25em;\n",
       "  color: var(--sklearn-color-text);\n",
       "  /* unfitted */\n",
       "  background-color: var(--sklearn-color-unfitted-level-0);\n",
       "}\n",
       "\n",
       "#sk-container-id-3 div.sk-toggleable__content.fitted pre {\n",
       "  /* unfitted */\n",
       "  background-color: var(--sklearn-color-fitted-level-0);\n",
       "}\n",
       "\n",
       "#sk-container-id-3 input.sk-toggleable__control:checked~div.sk-toggleable__content {\n",
       "  /* Expand drop-down */\n",
       "  max-height: 200px;\n",
       "  max-width: 100%;\n",
       "  overflow: auto;\n",
       "}\n",
       "\n",
       "#sk-container-id-3 input.sk-toggleable__control:checked~label.sk-toggleable__label-arrow:before {\n",
       "  content: \"▾\";\n",
       "}\n",
       "\n",
       "/* Pipeline/ColumnTransformer-specific style */\n",
       "\n",
       "#sk-container-id-3 div.sk-label input.sk-toggleable__control:checked~label.sk-toggleable__label {\n",
       "  color: var(--sklearn-color-text);\n",
       "  background-color: var(--sklearn-color-unfitted-level-2);\n",
       "}\n",
       "\n",
       "#sk-container-id-3 div.sk-label.fitted input.sk-toggleable__control:checked~label.sk-toggleable__label {\n",
       "  background-color: var(--sklearn-color-fitted-level-2);\n",
       "}\n",
       "\n",
       "/* Estimator-specific style */\n",
       "\n",
       "/* Colorize estimator box */\n",
       "#sk-container-id-3 div.sk-estimator input.sk-toggleable__control:checked~label.sk-toggleable__label {\n",
       "  /* unfitted */\n",
       "  background-color: var(--sklearn-color-unfitted-level-2);\n",
       "}\n",
       "\n",
       "#sk-container-id-3 div.sk-estimator.fitted input.sk-toggleable__control:checked~label.sk-toggleable__label {\n",
       "  /* fitted */\n",
       "  background-color: var(--sklearn-color-fitted-level-2);\n",
       "}\n",
       "\n",
       "#sk-container-id-3 div.sk-label label.sk-toggleable__label,\n",
       "#sk-container-id-3 div.sk-label label {\n",
       "  /* The background is the default theme color */\n",
       "  color: var(--sklearn-color-text-on-default-background);\n",
       "}\n",
       "\n",
       "/* On hover, darken the color of the background */\n",
       "#sk-container-id-3 div.sk-label:hover label.sk-toggleable__label {\n",
       "  color: var(--sklearn-color-text);\n",
       "  background-color: var(--sklearn-color-unfitted-level-2);\n",
       "}\n",
       "\n",
       "/* Label box, darken color on hover, fitted */\n",
       "#sk-container-id-3 div.sk-label.fitted:hover label.sk-toggleable__label.fitted {\n",
       "  color: var(--sklearn-color-text);\n",
       "  background-color: var(--sklearn-color-fitted-level-2);\n",
       "}\n",
       "\n",
       "/* Estimator label */\n",
       "\n",
       "#sk-container-id-3 div.sk-label label {\n",
       "  font-family: monospace;\n",
       "  font-weight: bold;\n",
       "  display: inline-block;\n",
       "  line-height: 1.2em;\n",
       "}\n",
       "\n",
       "#sk-container-id-3 div.sk-label-container {\n",
       "  text-align: center;\n",
       "}\n",
       "\n",
       "/* Estimator-specific */\n",
       "#sk-container-id-3 div.sk-estimator {\n",
       "  font-family: monospace;\n",
       "  border: 1px dotted var(--sklearn-color-border-box);\n",
       "  border-radius: 0.25em;\n",
       "  box-sizing: border-box;\n",
       "  margin-bottom: 0.5em;\n",
       "  /* unfitted */\n",
       "  background-color: var(--sklearn-color-unfitted-level-0);\n",
       "}\n",
       "\n",
       "#sk-container-id-3 div.sk-estimator.fitted {\n",
       "  /* fitted */\n",
       "  background-color: var(--sklearn-color-fitted-level-0);\n",
       "}\n",
       "\n",
       "/* on hover */\n",
       "#sk-container-id-3 div.sk-estimator:hover {\n",
       "  /* unfitted */\n",
       "  background-color: var(--sklearn-color-unfitted-level-2);\n",
       "}\n",
       "\n",
       "#sk-container-id-3 div.sk-estimator.fitted:hover {\n",
       "  /* fitted */\n",
       "  background-color: var(--sklearn-color-fitted-level-2);\n",
       "}\n",
       "\n",
       "/* Specification for estimator info (e.g. \"i\" and \"?\") */\n",
       "\n",
       "/* Common style for \"i\" and \"?\" */\n",
       "\n",
       ".sk-estimator-doc-link,\n",
       "a:link.sk-estimator-doc-link,\n",
       "a:visited.sk-estimator-doc-link {\n",
       "  float: right;\n",
       "  font-size: smaller;\n",
       "  line-height: 1em;\n",
       "  font-family: monospace;\n",
       "  background-color: var(--sklearn-color-background);\n",
       "  border-radius: 1em;\n",
       "  height: 1em;\n",
       "  width: 1em;\n",
       "  text-decoration: none !important;\n",
       "  margin-left: 0.5em;\n",
       "  text-align: center;\n",
       "  /* unfitted */\n",
       "  border: var(--sklearn-color-unfitted-level-1) 1pt solid;\n",
       "  color: var(--sklearn-color-unfitted-level-1);\n",
       "}\n",
       "\n",
       ".sk-estimator-doc-link.fitted,\n",
       "a:link.sk-estimator-doc-link.fitted,\n",
       "a:visited.sk-estimator-doc-link.fitted {\n",
       "  /* fitted */\n",
       "  border: var(--sklearn-color-fitted-level-1) 1pt solid;\n",
       "  color: var(--sklearn-color-fitted-level-1);\n",
       "}\n",
       "\n",
       "/* On hover */\n",
       "div.sk-estimator:hover .sk-estimator-doc-link:hover,\n",
       ".sk-estimator-doc-link:hover,\n",
       "div.sk-label-container:hover .sk-estimator-doc-link:hover,\n",
       ".sk-estimator-doc-link:hover {\n",
       "  /* unfitted */\n",
       "  background-color: var(--sklearn-color-unfitted-level-3);\n",
       "  color: var(--sklearn-color-background);\n",
       "  text-decoration: none;\n",
       "}\n",
       "\n",
       "div.sk-estimator.fitted:hover .sk-estimator-doc-link.fitted:hover,\n",
       ".sk-estimator-doc-link.fitted:hover,\n",
       "div.sk-label-container:hover .sk-estimator-doc-link.fitted:hover,\n",
       ".sk-estimator-doc-link.fitted:hover {\n",
       "  /* fitted */\n",
       "  background-color: var(--sklearn-color-fitted-level-3);\n",
       "  color: var(--sklearn-color-background);\n",
       "  text-decoration: none;\n",
       "}\n",
       "\n",
       "/* Span, style for the box shown on hovering the info icon */\n",
       ".sk-estimator-doc-link span {\n",
       "  display: none;\n",
       "  z-index: 9999;\n",
       "  position: relative;\n",
       "  font-weight: normal;\n",
       "  right: .2ex;\n",
       "  padding: .5ex;\n",
       "  margin: .5ex;\n",
       "  width: min-content;\n",
       "  min-width: 20ex;\n",
       "  max-width: 50ex;\n",
       "  color: var(--sklearn-color-text);\n",
       "  box-shadow: 2pt 2pt 4pt #999;\n",
       "  /* unfitted */\n",
       "  background: var(--sklearn-color-unfitted-level-0);\n",
       "  border: .5pt solid var(--sklearn-color-unfitted-level-3);\n",
       "}\n",
       "\n",
       ".sk-estimator-doc-link.fitted span {\n",
       "  /* fitted */\n",
       "  background: var(--sklearn-color-fitted-level-0);\n",
       "  border: var(--sklearn-color-fitted-level-3);\n",
       "}\n",
       "\n",
       ".sk-estimator-doc-link:hover span {\n",
       "  display: block;\n",
       "}\n",
       "\n",
       "/* \"?\"-specific style due to the `<a>` HTML tag */\n",
       "\n",
       "#sk-container-id-3 a.estimator_doc_link {\n",
       "  float: right;\n",
       "  font-size: 1rem;\n",
       "  line-height: 1em;\n",
       "  font-family: monospace;\n",
       "  background-color: var(--sklearn-color-background);\n",
       "  border-radius: 1rem;\n",
       "  height: 1rem;\n",
       "  width: 1rem;\n",
       "  text-decoration: none;\n",
       "  /* unfitted */\n",
       "  color: var(--sklearn-color-unfitted-level-1);\n",
       "  border: var(--sklearn-color-unfitted-level-1) 1pt solid;\n",
       "}\n",
       "\n",
       "#sk-container-id-3 a.estimator_doc_link.fitted {\n",
       "  /* fitted */\n",
       "  border: var(--sklearn-color-fitted-level-1) 1pt solid;\n",
       "  color: var(--sklearn-color-fitted-level-1);\n",
       "}\n",
       "\n",
       "/* On hover */\n",
       "#sk-container-id-3 a.estimator_doc_link:hover {\n",
       "  /* unfitted */\n",
       "  background-color: var(--sklearn-color-unfitted-level-3);\n",
       "  color: var(--sklearn-color-background);\n",
       "  text-decoration: none;\n",
       "}\n",
       "\n",
       "#sk-container-id-3 a.estimator_doc_link.fitted:hover {\n",
       "  /* fitted */\n",
       "  background-color: var(--sklearn-color-fitted-level-3);\n",
       "}\n",
       "</style><div id=\"sk-container-id-3\" class=\"sk-top-container\"><div class=\"sk-text-repr-fallback\"><pre>SVC(C=1, gamma=1, kernel=&#x27;poly&#x27;)</pre><b>In a Jupyter environment, please rerun this cell to show the HTML representation or trust the notebook. <br />On GitHub, the HTML representation is unable to render, please try loading this page with nbviewer.org.</b></div><div class=\"sk-container\" hidden><div class=\"sk-item\"><div class=\"sk-estimator fitted sk-toggleable\"><input class=\"sk-toggleable__control sk-hidden--visually\" id=\"sk-estimator-id-3\" type=\"checkbox\" checked><label for=\"sk-estimator-id-3\" class=\"sk-toggleable__label fitted sk-toggleable__label-arrow\"><div><div>SVC</div></div><div><a class=\"sk-estimator-doc-link fitted\" rel=\"noreferrer\" target=\"_blank\" href=\"https://scikit-learn.org/1.6/modules/generated/sklearn.svm.SVC.html\">?<span>Documentation for SVC</span></a><span class=\"sk-estimator-doc-link fitted\">i<span>Fitted</span></span></div></label><div class=\"sk-toggleable__content fitted\"><pre>SVC(C=1, gamma=1, kernel=&#x27;poly&#x27;)</pre></div> </div></div></div></div>"
      ],
      "text/plain": [
       "SVC(C=1, gamma=1, kernel='poly')"
      ]
     },
     "execution_count": 88,
     "metadata": {},
     "output_type": "execute_result"
    }
   ],
   "source": [
    "logistic_reg.fit(X_train, y_train)\n",
    "random_forest.fit(X_train, y_train)\n",
    "gradient_boost.fit(X_train, y_train)\n",
    "svc.fit(X_train, y_train)"
   ]
  },
  {
   "cell_type": "code",
   "execution_count": 123,
   "id": "92ee26f9",
   "metadata": {
    "ExecuteTime": {
     "end_time": "2025-09-15T10:33:16.027163Z",
     "start_time": "2025-09-15T10:33:14.667618Z"
    }
   },
   "outputs": [],
   "source": [
    "# Prediction on Train set\n",
    "train_y_pred_log = logistic_reg.predict(X_train)\n",
    "train_y_pred_forest = random_forest.predict(X_train)\n",
    "train_y_pred_grad = gradient_boost.predict(X_train)\n",
    "train_y_pred_svc = svc.predict(X_train)"
   ]
  },
  {
   "cell_type": "code",
   "execution_count": 89,
   "id": "c14219a6",
   "metadata": {
    "ExecuteTime": {
     "end_time": "2025-09-15T07:11:44.619683Z",
     "start_time": "2025-09-15T07:11:44.231876Z"
    }
   },
   "outputs": [],
   "source": [
    "# Prediction on Test set\n",
    "y_pred_log = logistic_reg.predict(X_test)\n",
    "y_pred_forest = random_forest.predict(X_test)\n",
    "y_pred_grad = gradient_boost.predict(X_test)\n",
    "y_pred_svc = svc.predict(X_test)"
   ]
  },
  {
   "cell_type": "markdown",
   "id": "9d832ecd",
   "metadata": {},
   "source": [
    "**Accuracy Scores**"
   ]
  },
  {
   "cell_type": "code",
   "execution_count": 130,
   "id": "848cdd3d",
   "metadata": {
    "ExecuteTime": {
     "end_time": "2025-09-15T10:55:52.547581Z",
     "start_time": "2025-09-15T10:55:52.523571Z"
    }
   },
   "outputs": [],
   "source": [
    "# Accuracy Score on Train set\n",
    "train_acc_logistic_reg = accuracy_score(y_train, train_y_pred_log) * 100\n",
    "train_acc_random_forest = accuracy_score(y_train, train_y_pred_forest) * 100\n",
    "train_acc_gradient_boost = accuracy_score(y_train, train_y_pred_grad) * 100\n",
    "train_acc_svc = accuracy_score(y_train, train_y_pred_svc) * 100"
   ]
  },
  {
   "cell_type": "code",
   "execution_count": 131,
   "id": "77d5bbb4",
   "metadata": {
    "ExecuteTime": {
     "end_time": "2025-09-15T10:55:53.419363Z",
     "start_time": "2025-09-15T10:55:53.395662Z"
    }
   },
   "outputs": [],
   "source": [
    "# Accuracy Score on Test set\n",
    "acc_logistic_reg = accuracy_score(y_test, y_pred_log) * 100\n",
    "acc_random_forest = accuracy_score(y_test, y_pred_forest) * 100\n",
    "acc_gradient_boost = accuracy_score(y_test, y_pred_grad) * 100\n",
    "acc_svc = accuracy_score(y_test, y_pred_svc) * 100"
   ]
  },
  {
   "cell_type": "markdown",
   "id": "ee78e704",
   "metadata": {},
   "source": [
    "**Precision Scores**"
   ]
  },
  {
   "cell_type": "code",
   "execution_count": 132,
   "id": "4438aa0e",
   "metadata": {
    "ExecuteTime": {
     "end_time": "2025-09-15T10:55:54.733883Z",
     "start_time": "2025-09-15T10:55:54.696904Z"
    }
   },
   "outputs": [],
   "source": [
    "# Precision Score on Train set\n",
    "train_precision_logistic_reg = precision_score(y_train, train_y_pred_log) * 100\n",
    "train_precision_random_forest = precision_score(y_train, train_y_pred_forest) * 100\n",
    "train_precision_gradient_boost = precision_score(y_train, train_y_pred_grad) * 100\n",
    "train_precision_svc = precision_score(y_train, train_y_pred_svc) * 100"
   ]
  },
  {
   "cell_type": "code",
   "execution_count": 133,
   "id": "422dfa5e",
   "metadata": {
    "ExecuteTime": {
     "end_time": "2025-09-15T10:55:55.657645Z",
     "start_time": "2025-09-15T10:55:55.612431Z"
    }
   },
   "outputs": [],
   "source": [
    "# Precision Score on the Test Set\n",
    "precision_logistic_reg = precision_score(y_test, y_pred_log) * 100\n",
    "precision_random_forest = precision_score(y_test, y_pred_forest) * 100\n",
    "precision_gradient_boost = precision_score(y_test, y_pred_grad) * 100\n",
    "precision_svc = precision_score(y_test, y_pred_svc) * 100"
   ]
  },
  {
   "cell_type": "markdown",
   "id": "57388e75",
   "metadata": {},
   "source": [
    "**Recall Scores**"
   ]
  },
  {
   "cell_type": "code",
   "execution_count": 134,
   "id": "bc1b8bad",
   "metadata": {
    "ExecuteTime": {
     "end_time": "2025-09-15T10:55:56.745871Z",
     "start_time": "2025-09-15T10:55:56.707928Z"
    }
   },
   "outputs": [],
   "source": [
    "# Recall Score on the Train Set\n",
    "train_recall_logistic_reg = recall_score(y_train, train_y_pred_log) * 100\n",
    "train_recall_random_forest = recall_score(y_train, train_y_pred_forest) * 100\n",
    "train_recall_gradient_boost = recall_score(y_train, train_y_pred_grad) * 100\n",
    "train_recall_svc = recall_score(y_train, train_y_pred_svc) * 100"
   ]
  },
  {
   "cell_type": "code",
   "execution_count": 135,
   "id": "62433d5d",
   "metadata": {
    "ExecuteTime": {
     "end_time": "2025-09-15T10:55:57.386677Z",
     "start_time": "2025-09-15T10:55:57.350586Z"
    }
   },
   "outputs": [],
   "source": [
    "# Recall Score on Test Set\n",
    "recall_logistic_reg = recall_score(y_test, y_pred_log) * 100\n",
    "recall_random_forest = recall_score(y_test, y_pred_forest) * 100\n",
    "recall_gradient_boost = recall_score(y_test, y_pred_grad) * 100\n",
    "recall_svc = recall_score(y_test, y_pred_svc) * 100"
   ]
  },
  {
   "cell_type": "code",
   "execution_count": 136,
   "id": "783a98ae",
   "metadata": {
    "ExecuteTime": {
     "end_time": "2025-09-15T10:55:58.024649Z",
     "start_time": "2025-09-15T10:55:57.995259Z"
    }
   },
   "outputs": [
    {
     "data": {
      "text/html": [
       "<div>\n",
       "<style scoped>\n",
       "    .dataframe tbody tr th:only-of-type {\n",
       "        vertical-align: middle;\n",
       "    }\n",
       "\n",
       "    .dataframe tbody tr th {\n",
       "        vertical-align: top;\n",
       "    }\n",
       "\n",
       "    .dataframe thead th {\n",
       "        text-align: right;\n",
       "    }\n",
       "</style>\n",
       "<table border=\"1\" class=\"dataframe\">\n",
       "  <thead>\n",
       "    <tr style=\"text-align: right;\">\n",
       "      <th></th>\n",
       "      <th>Accuracy</th>\n",
       "      <th>Precision</th>\n",
       "      <th>Recall</th>\n",
       "    </tr>\n",
       "  </thead>\n",
       "  <tbody>\n",
       "    <tr>\n",
       "      <th>Logistic_Regression</th>\n",
       "      <td>81.533333</td>\n",
       "      <td>62.699822</td>\n",
       "      <td>23.102094</td>\n",
       "    </tr>\n",
       "    <tr>\n",
       "      <th>Random_Forest</th>\n",
       "      <td>86.773333</td>\n",
       "      <td>77.916667</td>\n",
       "      <td>48.952880</td>\n",
       "    </tr>\n",
       "    <tr>\n",
       "      <th>Gradient_Boost</th>\n",
       "      <td>87.186667</td>\n",
       "      <td>80.582524</td>\n",
       "      <td>48.887435</td>\n",
       "    </tr>\n",
       "    <tr>\n",
       "      <th>Support_Vector</th>\n",
       "      <td>86.146667</td>\n",
       "      <td>83.539095</td>\n",
       "      <td>39.856021</td>\n",
       "    </tr>\n",
       "  </tbody>\n",
       "</table>\n",
       "</div>"
      ],
      "text/plain": [
       "                      Accuracy  Precision     Recall\n",
       "Logistic_Regression  81.533333  62.699822  23.102094\n",
       "Random_Forest        86.773333  77.916667  48.952880\n",
       "Gradient_Boost       87.186667  80.582524  48.887435\n",
       "Support_Vector       86.146667  83.539095  39.856021"
      ]
     },
     "execution_count": 136,
     "metadata": {},
     "output_type": "execute_result"
    }
   ],
   "source": [
    "train_metrics_data = pd.DataFrame({\"Accuracy\": [train_acc_logistic_reg, train_acc_random_forest, train_acc_gradient_boost, train_acc_svc],\n",
    "                            \"Precision\": [train_precision_logistic_reg, train_precision_random_forest, train_precision_gradient_boost, train_precision_svc],\n",
    "                            \"Recall\": [train_recall_logistic_reg, train_recall_random_forest, train_recall_gradient_boost, train_recall_svc]})\n",
    "\n",
    "train_metrics_data.index = ['Logistic_Regression', 'Random_Forest', 'Gradient_Boost', 'Support_Vector']\n",
    "train_metrics_data"
   ]
  },
  {
   "cell_type": "code",
   "execution_count": 156,
   "id": "73094ccf",
   "metadata": {
    "ExecuteTime": {
     "end_time": "2025-09-15T11:13:52.790136Z",
     "start_time": "2025-09-15T11:13:52.771920Z"
    }
   },
   "outputs": [
    {
     "data": {
      "text/html": [
       "<div>\n",
       "<style scoped>\n",
       "    .dataframe tbody tr th:only-of-type {\n",
       "        vertical-align: middle;\n",
       "    }\n",
       "\n",
       "    .dataframe tbody tr th {\n",
       "        vertical-align: top;\n",
       "    }\n",
       "\n",
       "    .dataframe thead th {\n",
       "        text-align: right;\n",
       "    }\n",
       "</style>\n",
       "<table border=\"1\" class=\"dataframe\">\n",
       "  <thead>\n",
       "    <tr style=\"text-align: right;\">\n",
       "      <th></th>\n",
       "      <th>Accuracy</th>\n",
       "      <th>Precision</th>\n",
       "      <th>Recall</th>\n",
       "    </tr>\n",
       "  </thead>\n",
       "  <tbody>\n",
       "    <tr>\n",
       "      <th>Logistic_Regression</th>\n",
       "      <td>81.36</td>\n",
       "      <td>61.497326</td>\n",
       "      <td>22.593320</td>\n",
       "    </tr>\n",
       "    <tr>\n",
       "      <th>Random_Forest</th>\n",
       "      <td>84.96</td>\n",
       "      <td>72.240803</td>\n",
       "      <td>42.436149</td>\n",
       "    </tr>\n",
       "    <tr>\n",
       "      <th>Gradient_Boost</th>\n",
       "      <td>85.36</td>\n",
       "      <td>74.570447</td>\n",
       "      <td>42.632613</td>\n",
       "    </tr>\n",
       "    <tr>\n",
       "      <th>Support_Vector</th>\n",
       "      <td>85.04</td>\n",
       "      <td>79.735683</td>\n",
       "      <td>35.559921</td>\n",
       "    </tr>\n",
       "  </tbody>\n",
       "</table>\n",
       "</div>"
      ],
      "text/plain": [
       "                     Accuracy  Precision     Recall\n",
       "Logistic_Regression     81.36  61.497326  22.593320\n",
       "Random_Forest           84.96  72.240803  42.436149\n",
       "Gradient_Boost          85.36  74.570447  42.632613\n",
       "Support_Vector          85.04  79.735683  35.559921"
      ]
     },
     "execution_count": 156,
     "metadata": {},
     "output_type": "execute_result"
    }
   ],
   "source": [
    "metrics_data = pd.DataFrame({\"Accuracy\": [acc_logistic_reg, acc_random_forest, acc_gradient_boost, acc_svc],\n",
    "                            \"Precision\": [precision_logistic_reg, precision_random_forest, precision_gradient_boost, precision_svc],\n",
    "                            \"Recall\": [recall_logistic_reg, recall_random_forest, recall_gradient_boost, recall_svc]})\n",
    "\n",
    "metrics_data.index = ['Logistic_Regression', 'Random_Forest', 'Gradient_Boost', 'Support_Vector']\n",
    "metrics_data"
   ]
  },
  {
   "cell_type": "code",
   "execution_count": 157,
   "id": "892b78d7",
   "metadata": {
    "ExecuteTime": {
     "end_time": "2025-09-15T11:13:57.156654Z",
     "start_time": "2025-09-15T11:13:56.537640Z"
    }
   },
   "outputs": [
    {
     "data": {
      "image/png": "[encoded data removed]",
      "text/plain": [
       "<Figure size 1000x500 with 1 Axes>"
      ]
     },
     "metadata": {},
     "output_type": "display_data"
    }
   ],
   "source": [
    "ax1 = train_metrics_data.plot.barh(figsize=(10,5))\n",
    "plt.title(\"Metrics on Training Data\")\n",
    "plt.legend(loc='lower left', bbox_to_anchor=(1,0.8))\n",
    "for bars in ax1.containers:\n",
    "    #ax.bar_label(bars, fmt=\"%.2f\", label_type='edge', padding=3)\n",
    "    ax1.bar_label(bars, fmt=\"%.1f%%\", label_type='edge', padding=3)  # this adds labels as percentage\n",
    "plt.tight_layout()\n",
    "plt.show()"
   ]
  },
  {
   "cell_type": "code",
   "execution_count": 158,
   "id": "cc4400c0",
   "metadata": {
    "ExecuteTime": {
     "end_time": "2025-09-15T11:14:26.342305Z",
     "start_time": "2025-09-15T11:14:25.806225Z"
    }
   },
   "outputs": [
    {
     "data": {
      "image/png": "[encoded data removed]",
      "text/plain": [
       "<Figure size 1000x500 with 1 Axes>"
      ]
     },
     "metadata": {},
     "output_type": "display_data"
    }
   ],
   "source": [
    "ax2 = metrics_data.plot.barh(figsize=(10,5))\n",
    "plt.title(\"Metrics on Test Data\")\n",
    "plt.legend(loc='lower left', bbox_to_anchor=(1,0.8))\n",
    "for bars in ax2.containers:\n",
    "    #ax.bar_label(bars, fmt=\"%.2f\", label_type='edge', padding=3)\n",
    "    ax2.bar_label(bars, fmt=\"%.1f%%\", label_type='edge', padding=3)  # this adds labels as percentage\n",
    "plt.tight_layout()\n",
    "plt.show()"
   ]
  },
  {
   "cell_type": "code",
   "execution_count": 170,
   "id": "4d7ecbf5",
   "metadata": {
    "ExecuteTime": {
     "end_time": "2025-09-15T12:06:07.953979Z",
     "start_time": "2025-09-15T12:06:07.381729Z"
    }
   },
   "outputs": [
    {
     "data": {
      "image/png": "[encoded data removed]",
      "text/plain": [
       "<Figure size 1200x500 with 3 Axes>"
      ]
     },
     "metadata": {},
     "output_type": "display_data"
    }
   ],
   "source": [
    "# Getting the cnfusion Matrics for Gradient Boost\n",
    "conf_matrix = confusion_matrix(y_test, y_pred_grad)\n",
    "y_test_vals = y_test.value_counts()\n",
    "\n",
    "fig, ax = plt.subplots(1,2,figsize=(12,5))\n",
    "sns.heatmap(conf_matrix, annot=True,fmt='d',ax=ax[0])\n",
    "y_test_vals.plot(kind='bar', ax=ax[1], color=['green', 'red'])\n",
    "\n",
    "for i, val in enumerate(y_test_vals.values):\n",
    "    ax[1].text(i, val, f\"{val}\", ha='center', va='bottom', weight='bold')\n",
    "\n",
    "\n",
    "ax[1].set_title(\"Distribution of Test output Variable\")\n",
    "ax[0].set_xlabel(\"Predicted\")\n",
    "ax[0].set_ylabel(\"Actual\")\n",
    "ax[0].set_title(\"Confusion Matrix: Gradient Boost Test Predictions\")\n",
    "plt.tight_layout()\n",
    "plt.show()"
   ]
  },
  {
   "cell_type": "markdown",
   "id": "5728929c",
   "metadata": {},
   "source": [
    "From the above model evaluation, Gradient boost outperforms the rest of the model with the highest accuracy of 85.4% on the test set. Because of the imbalance nature of the data, the accuracy score can not be relied on. Precision score and Recall score were also used as parts of the metrics used to evaluate the models. Gradient boost gave a better recall score than the rest of the models. From the confusion matrix plot above, of all 509 people that left (churn), the best model was able to predict 217 correctly as churn. The rest of the 292 churn were wrongly predicted as no churn."
   ]
  },
  {
   "cell_type": "markdown",
   "id": "8b3d9463",
   "metadata": {},
   "source": [
    "### Evaluating Resampled Dataset"
   ]
  },
  {
   "cell_type": "code",
   "execution_count": 172,
   "id": "c106f7e8",
   "metadata": {
    "ExecuteTime": {
     "end_time": "2025-09-15T14:26:05.254918Z",
     "start_time": "2025-09-15T14:26:05.245538Z"
    }
   },
   "outputs": [],
   "source": [
    "logistic_reg_s = LogisticRegression(C=10, penalty='l2')\n",
    "random_forest_s = RandomForestClassifier(max_depth=5, n_estimators=100, max_features=None)\n",
    "gradient_boost_s= GradientBoostingClassifier(learning_rate=0.1, max_depth=3, n_estimators=100, min_samples_split=10)\n",
    "svc_s = SVC(C=1, gamma=1, kernel='poly')"
   ]
  },
  {
   "cell_type": "code",
   "execution_count": 174,
   "id": "1a8bb66a",
   "metadata": {
    "ExecuteTime": {
     "end_time": "2025-09-15T14:26:47.092656Z",
     "start_time": "2025-09-15T14:26:30.865357Z"
    }
   },
   "outputs": [
    {
     "data": {
      "text/html": [
       "<style>#sk-container-id-4 {\n",
       "  /* Definition of color scheme common for light and dark mode */\n",
       "  --sklearn-color-text: #000;\n",
       "  --sklearn-color-text-muted: #666;\n",
       "  --sklearn-color-line: gray;\n",
       "  /* Definition of color scheme for unfitted estimators */\n",
       "  --sklearn-color-unfitted-level-0: #fff5e6;\n",
       "  --sklearn-color-unfitted-level-1: #f6e4d2;\n",
       "  --sklearn-color-unfitted-level-2: #ffe0b3;\n",
       "  --sklearn-color-unfitted-level-3: chocolate;\n",
       "  /* Definition of color scheme for fitted estimators */\n",
       "  --sklearn-color-fitted-level-0: #f0f8ff;\n",
       "  --sklearn-color-fitted-level-1: #d4ebff;\n",
       "  --sklearn-color-fitted-level-2: #b3dbfd;\n",
       "  --sklearn-color-fitted-level-3: cornflowerblue;\n",
       "\n",
       "  /* Specific color for light theme */\n",
       "  --sklearn-color-text-on-default-background: var(--sg-text-color, var(--theme-code-foreground, var(--jp-content-font-color1, black)));\n",
       "  --sklearn-color-background: var(--sg-background-color, var(--theme-background, var(--jp-layout-color0, white)));\n",
       "  --sklearn-color-border-box: var(--sg-text-color, var(--theme-code-foreground, var(--jp-content-font-color1, black)));\n",
       "  --sklearn-color-icon: #696969;\n",
       "\n",
       "  @media (prefers-color-scheme: dark) {\n",
       "    /* Redefinition of color scheme for dark theme */\n",
       "    --sklearn-color-text-on-default-background: var(--sg-text-color, var(--theme-code-foreground, var(--jp-content-font-color1, white)));\n",
       "    --sklearn-color-background: var(--sg-background-color, var(--theme-background, var(--jp-layout-color0, #111)));\n",
       "    --sklearn-color-border-box: var(--sg-text-color, var(--theme-code-foreground, var(--jp-content-font-color1, white)));\n",
       "    --sklearn-color-icon: #878787;\n",
       "  }\n",
       "}\n",
       "\n",
       "#sk-container-id-4 {\n",
       "  color: var(--sklearn-color-text);\n",
       "}\n",
       "\n",
       "#sk-container-id-4 pre {\n",
       "  padding: 0;\n",
       "}\n",
       "\n",
       "#sk-container-id-4 input.sk-hidden--visually {\n",
       "  border: 0;\n",
       "  clip: rect(1px 1px 1px 1px);\n",
       "  clip: rect(1px, 1px, 1px, 1px);\n",
       "  height: 1px;\n",
       "  margin: -1px;\n",
       "  overflow: hidden;\n",
       "  padding: 0;\n",
       "  position: absolute;\n",
       "  width: 1px;\n",
       "}\n",
       "\n",
       "#sk-container-id-4 div.sk-dashed-wrapped {\n",
       "  border: 1px dashed var(--sklearn-color-line);\n",
       "  margin: 0 0.4em 0.5em 0.4em;\n",
       "  box-sizing: border-box;\n",
       "  padding-bottom: 0.4em;\n",
       "  background-color: var(--sklearn-color-background);\n",
       "}\n",
       "\n",
       "#sk-container-id-4 div.sk-container {\n",
       "  /* jupyter's `normalize.less` sets `[hidden] { display: none; }`\n",
       "     but bootstrap.min.css set `[hidden] { display: none !important; }`\n",
       "     so we also need the `!important` here to be able to override the\n",
       "     default hidden behavior on the sphinx rendered scikit-learn.org.\n",
       "     See: https://github.com/scikit-learn/scikit-learn/issues/21755 */\n",
       "  display: inline-block !important;\n",
       "  position: relative;\n",
       "}\n",
       "\n",
       "#sk-container-id-4 div.sk-text-repr-fallback {\n",
       "  display: none;\n",
       "}\n",
       "\n",
       "div.sk-parallel-item,\n",
       "div.sk-serial,\n",
       "div.sk-item {\n",
       "  /* draw centered vertical line to link estimators */\n",
       "  background-image: linear-gradient(var(--sklearn-color-text-on-default-background), var(--sklearn-color-text-on-default-background));\n",
       "  background-size: 2px 100%;\n",
       "  background-repeat: no-repeat;\n",
       "  background-position: center center;\n",
       "}\n",
       "\n",
       "/* Parallel-specific style estimator block */\n",
       "\n",
       "#sk-container-id-4 div.sk-parallel-item::after {\n",
       "  content: \"\";\n",
       "  width: 100%;\n",
       "  border-bottom: 2px solid var(--sklearn-color-text-on-default-background);\n",
       "  flex-grow: 1;\n",
       "}\n",
       "\n",
       "#sk-container-id-4 div.sk-parallel {\n",
       "  display: flex;\n",
       "  align-items: stretch;\n",
       "  justify-content: center;\n",
       "  background-color: var(--sklearn-color-background);\n",
       "  position: relative;\n",
       "}\n",
       "\n",
       "#sk-container-id-4 div.sk-parallel-item {\n",
       "  display: flex;\n",
       "  flex-direction: column;\n",
       "}\n",
       "\n",
       "#sk-container-id-4 div.sk-parallel-item:first-child::after {\n",
       "  align-self: flex-end;\n",
       "  width: 50%;\n",
       "}\n",
       "\n",
       "#sk-container-id-4 div.sk-parallel-item:last-child::after {\n",
       "  align-self: flex-start;\n",
       "  width: 50%;\n",
       "}\n",
       "\n",
       "#sk-container-id-4 div.sk-parallel-item:only-child::after {\n",
       "  width: 0;\n",
       "}\n",
       "\n",
       "/* Serial-specific style estimator block */\n",
       "\n",
       "#sk-container-id-4 div.sk-serial {\n",
       "  display: flex;\n",
       "  flex-direction: column;\n",
       "  align-items: center;\n",
       "  background-color: var(--sklearn-color-background);\n",
       "  padding-right: 1em;\n",
       "  padding-left: 1em;\n",
       "}\n",
       "\n",
       "\n",
       "/* Toggleable style: style used for estimator/Pipeline/ColumnTransformer box that is\n",
       "clickable and can be expanded/collapsed.\n",
       "- Pipeline and ColumnTransformer use this feature and define the default style\n",
       "- Estimators will overwrite some part of the style using the `sk-estimator` class\n",
       "*/\n",
       "\n",
       "/* Pipeline and ColumnTransformer style (default) */\n",
       "\n",
       "#sk-container-id-4 div.sk-toggleable {\n",
       "  /* Default theme specific background. It is overwritten whether we have a\n",
       "  specific estimator or a Pipeline/ColumnTransformer */\n",
       "  background-color: var(--sklearn-color-background);\n",
       "}\n",
       "\n",
       "/* Toggleable label */\n",
       "#sk-container-id-4 label.sk-toggleable__label {\n",
       "  cursor: pointer;\n",
       "  display: flex;\n",
       "  width: 100%;\n",
       "  margin-bottom: 0;\n",
       "  padding: 0.5em;\n",
       "  box-sizing: border-box;\n",
       "  text-align: center;\n",
       "  align-items: start;\n",
       "  justify-content: space-between;\n",
       "  gap: 0.5em;\n",
       "}\n",
       "\n",
       "#sk-container-id-4 label.sk-toggleable__label .caption {\n",
       "  font-size: 0.6rem;\n",
       "  font-weight: lighter;\n",
       "  color: var(--sklearn-color-text-muted);\n",
       "}\n",
       "\n",
       "#sk-container-id-4 label.sk-toggleable__label-arrow:before {\n",
       "  /* Arrow on the left of the label */\n",
       "  content: \"▸\";\n",
       "  float: left;\n",
       "  margin-right: 0.25em;\n",
       "  color: var(--sklearn-color-icon);\n",
       "}\n",
       "\n",
       "#sk-container-id-4 label.sk-toggleable__label-arrow:hover:before {\n",
       "  color: var(--sklearn-color-text);\n",
       "}\n",
       "\n",
       "/* Toggleable content - dropdown */\n",
       "\n",
       "#sk-container-id-4 div.sk-toggleable__content {\n",
       "  max-height: 0;\n",
       "  max-width: 0;\n",
       "  overflow: hidden;\n",
       "  text-align: left;\n",
       "  /* unfitted */\n",
       "  background-color: var(--sklearn-color-unfitted-level-0);\n",
       "}\n",
       "\n",
       "#sk-container-id-4 div.sk-toggleable__content.fitted {\n",
       "  /* fitted */\n",
       "  background-color: var(--sklearn-color-fitted-level-0);\n",
       "}\n",
       "\n",
       "#sk-container-id-4 div.sk-toggleable__content pre {\n",
       "  margin: 0.2em;\n",
       "  border-radius: 0.25em;\n",
       "  color: var(--sklearn-color-text);\n",
       "  /* unfitted */\n",
       "  background-color: var(--sklearn-color-unfitted-level-0);\n",
       "}\n",
       "\n",
       "#sk-container-id-4 div.sk-toggleable__content.fitted pre {\n",
       "  /* unfitted */\n",
       "  background-color: var(--sklearn-color-fitted-level-0);\n",
       "}\n",
       "\n",
       "#sk-container-id-4 input.sk-toggleable__control:checked~div.sk-toggleable__content {\n",
       "  /* Expand drop-down */\n",
       "  max-height: 200px;\n",
       "  max-width: 100%;\n",
       "  overflow: auto;\n",
       "}\n",
       "\n",
       "#sk-container-id-4 input.sk-toggleable__control:checked~label.sk-toggleable__label-arrow:before {\n",
       "  content: \"▾\";\n",
       "}\n",
       "\n",
       "/* Pipeline/ColumnTransformer-specific style */\n",
       "\n",
       "#sk-container-id-4 div.sk-label input.sk-toggleable__control:checked~label.sk-toggleable__label {\n",
       "  color: var(--sklearn-color-text);\n",
       "  background-color: var(--sklearn-color-unfitted-level-2);\n",
       "}\n",
       "\n",
       "#sk-container-id-4 div.sk-label.fitted input.sk-toggleable__control:checked~label.sk-toggleable__label {\n",
       "  background-color: var(--sklearn-color-fitted-level-2);\n",
       "}\n",
       "\n",
       "/* Estimator-specific style */\n",
       "\n",
       "/* Colorize estimator box */\n",
       "#sk-container-id-4 div.sk-estimator input.sk-toggleable__control:checked~label.sk-toggleable__label {\n",
       "  /* unfitted */\n",
       "  background-color: var(--sklearn-color-unfitted-level-2);\n",
       "}\n",
       "\n",
       "#sk-container-id-4 div.sk-estimator.fitted input.sk-toggleable__control:checked~label.sk-toggleable__label {\n",
       "  /* fitted */\n",
       "  background-color: var(--sklearn-color-fitted-level-2);\n",
       "}\n",
       "\n",
       "#sk-container-id-4 div.sk-label label.sk-toggleable__label,\n",
       "#sk-container-id-4 div.sk-label label {\n",
       "  /* The background is the default theme color */\n",
       "  color: var(--sklearn-color-text-on-default-background);\n",
       "}\n",
       "\n",
       "/* On hover, darken the color of the background */\n",
       "#sk-container-id-4 div.sk-label:hover label.sk-toggleable__label {\n",
       "  color: var(--sklearn-color-text);\n",
       "  background-color: var(--sklearn-color-unfitted-level-2);\n",
       "}\n",
       "\n",
       "/* Label box, darken color on hover, fitted */\n",
       "#sk-container-id-4 div.sk-label.fitted:hover label.sk-toggleable__label.fitted {\n",
       "  color: var(--sklearn-color-text);\n",
       "  background-color: var(--sklearn-color-fitted-level-2);\n",
       "}\n",
       "\n",
       "/* Estimator label */\n",
       "\n",
       "#sk-container-id-4 div.sk-label label {\n",
       "  font-family: monospace;\n",
       "  font-weight: bold;\n",
       "  display: inline-block;\n",
       "  line-height: 1.2em;\n",
       "}\n",
       "\n",
       "#sk-container-id-4 div.sk-label-container {\n",
       "  text-align: center;\n",
       "}\n",
       "\n",
       "/* Estimator-specific */\n",
       "#sk-container-id-4 div.sk-estimator {\n",
       "  font-family: monospace;\n",
       "  border: 1px dotted var(--sklearn-color-border-box);\n",
       "  border-radius: 0.25em;\n",
       "  box-sizing: border-box;\n",
       "  margin-bottom: 0.5em;\n",
       "  /* unfitted */\n",
       "  background-color: var(--sklearn-color-unfitted-level-0);\n",
       "}\n",
       "\n",
       "#sk-container-id-4 div.sk-estimator.fitted {\n",
       "  /* fitted */\n",
       "  background-color: var(--sklearn-color-fitted-level-0);\n",
       "}\n",
       "\n",
       "/* on hover */\n",
       "#sk-container-id-4 div.sk-estimator:hover {\n",
       "  /* unfitted */\n",
       "  background-color: var(--sklearn-color-unfitted-level-2);\n",
       "}\n",
       "\n",
       "#sk-container-id-4 div.sk-estimator.fitted:hover {\n",
       "  /* fitted */\n",
       "  background-color: var(--sklearn-color-fitted-level-2);\n",
       "}\n",
       "\n",
       "/* Specification for estimator info (e.g. \"i\" and \"?\") */\n",
       "\n",
       "/* Common style for \"i\" and \"?\" */\n",
       "\n",
       ".sk-estimator-doc-link,\n",
       "a:link.sk-estimator-doc-link,\n",
       "a:visited.sk-estimator-doc-link {\n",
       "  float: right;\n",
       "  font-size: smaller;\n",
       "  line-height: 1em;\n",
       "  font-family: monospace;\n",
       "  background-color: var(--sklearn-color-background);\n",
       "  border-radius: 1em;\n",
       "  height: 1em;\n",
       "  width: 1em;\n",
       "  text-decoration: none !important;\n",
       "  margin-left: 0.5em;\n",
       "  text-align: center;\n",
       "  /* unfitted */\n",
       "  border: var(--sklearn-color-unfitted-level-1) 1pt solid;\n",
       "  color: var(--sklearn-color-unfitted-level-1);\n",
       "}\n",
       "\n",
       ".sk-estimator-doc-link.fitted,\n",
       "a:link.sk-estimator-doc-link.fitted,\n",
       "a:visited.sk-estimator-doc-link.fitted {\n",
       "  /* fitted */\n",
       "  border: var(--sklearn-color-fitted-level-1) 1pt solid;\n",
       "  color: var(--sklearn-color-fitted-level-1);\n",
       "}\n",
       "\n",
       "/* On hover */\n",
       "div.sk-estimator:hover .sk-estimator-doc-link:hover,\n",
       ".sk-estimator-doc-link:hover,\n",
       "div.sk-label-container:hover .sk-estimator-doc-link:hover,\n",
       ".sk-estimator-doc-link:hover {\n",
       "  /* unfitted */\n",
       "  background-color: var(--sklearn-color-unfitted-level-3);\n",
       "  color: var(--sklearn-color-background);\n",
       "  text-decoration: none;\n",
       "}\n",
       "\n",
       "div.sk-estimator.fitted:hover .sk-estimator-doc-link.fitted:hover,\n",
       ".sk-estimator-doc-link.fitted:hover,\n",
       "div.sk-label-container:hover .sk-estimator-doc-link.fitted:hover,\n",
       ".sk-estimator-doc-link.fitted:hover {\n",
       "  /* fitted */\n",
       "  background-color: var(--sklearn-color-fitted-level-3);\n",
       "  color: var(--sklearn-color-background);\n",
       "  text-decoration: none;\n",
       "}\n",
       "\n",
       "/* Span, style for the box shown on hovering the info icon */\n",
       ".sk-estimator-doc-link span {\n",
       "  display: none;\n",
       "  z-index: 9999;\n",
       "  position: relative;\n",
       "  font-weight: normal;\n",
       "  right: .2ex;\n",
       "  padding: .5ex;\n",
       "  margin: .5ex;\n",
       "  width: min-content;\n",
       "  min-width: 20ex;\n",
       "  max-width: 50ex;\n",
       "  color: var(--sklearn-color-text);\n",
       "  box-shadow: 2pt 2pt 4pt #999;\n",
       "  /* unfitted */\n",
       "  background: var(--sklearn-color-unfitted-level-0);\n",
       "  border: .5pt solid var(--sklearn-color-unfitted-level-3);\n",
       "}\n",
       "\n",
       ".sk-estimator-doc-link.fitted span {\n",
       "  /* fitted */\n",
       "  background: var(--sklearn-color-fitted-level-0);\n",
       "  border: var(--sklearn-color-fitted-level-3);\n",
       "}\n",
       "\n",
       ".sk-estimator-doc-link:hover span {\n",
       "  display: block;\n",
       "}\n",
       "\n",
       "/* \"?\"-specific style due to the `<a>` HTML tag */\n",
       "\n",
       "#sk-container-id-4 a.estimator_doc_link {\n",
       "  float: right;\n",
       "  font-size: 1rem;\n",
       "  line-height: 1em;\n",
       "  font-family: monospace;\n",
       "  background-color: var(--sklearn-color-background);\n",
       "  border-radius: 1rem;\n",
       "  height: 1rem;\n",
       "  width: 1rem;\n",
       "  text-decoration: none;\n",
       "  /* unfitted */\n",
       "  color: var(--sklearn-color-unfitted-level-1);\n",
       "  border: var(--sklearn-color-unfitted-level-1) 1pt solid;\n",
       "}\n",
       "\n",
       "#sk-container-id-4 a.estimator_doc_link.fitted {\n",
       "  /* fitted */\n",
       "  border: var(--sklearn-color-fitted-level-1) 1pt solid;\n",
       "  color: var(--sklearn-color-fitted-level-1);\n",
       "}\n",
       "\n",
       "/* On hover */\n",
       "#sk-container-id-4 a.estimator_doc_link:hover {\n",
       "  /* unfitted */\n",
       "  background-color: var(--sklearn-color-unfitted-level-3);\n",
       "  color: var(--sklearn-color-background);\n",
       "  text-decoration: none;\n",
       "}\n",
       "\n",
       "#sk-container-id-4 a.estimator_doc_link.fitted:hover {\n",
       "  /* fitted */\n",
       "  background-color: var(--sklearn-color-fitted-level-3);\n",
       "}\n",
       "</style><div id=\"sk-container-id-4\" class=\"sk-top-container\"><div class=\"sk-text-repr-fallback\"><pre>SVC(C=1, gamma=1, kernel=&#x27;poly&#x27;)</pre><b>In a Jupyter environment, please rerun this cell to show the HTML representation or trust the notebook. <br />On GitHub, the HTML representation is unable to render, please try loading this page with nbviewer.org.</b></div><div class=\"sk-container\" hidden><div class=\"sk-item\"><div class=\"sk-estimator fitted sk-toggleable\"><input class=\"sk-toggleable__control sk-hidden--visually\" id=\"sk-estimator-id-4\" type=\"checkbox\" checked><label for=\"sk-estimator-id-4\" class=\"sk-toggleable__label fitted sk-toggleable__label-arrow\"><div><div>SVC</div></div><div><a class=\"sk-estimator-doc-link fitted\" rel=\"noreferrer\" target=\"_blank\" href=\"https://scikit-learn.org/1.6/modules/generated/sklearn.svm.SVC.html\">?<span>Documentation for SVC</span></a><span class=\"sk-estimator-doc-link fitted\">i<span>Fitted</span></span></div></label><div class=\"sk-toggleable__content fitted\"><pre>SVC(C=1, gamma=1, kernel=&#x27;poly&#x27;)</pre></div> </div></div></div></div>"
      ],
      "text/plain": [
       "SVC(C=1, gamma=1, kernel='poly')"
      ]
     },
     "execution_count": 174,
     "metadata": {},
     "output_type": "execute_result"
    }
   ],
   "source": [
    "logistic_reg_s.fit(X_train_resampled, y_train_resampled)\n",
    "random_forest_s.fit(X_train_resampled, y_train_resampled)\n",
    "gradient_boost_s.fit(X_train_resampled, y_train_resampled)\n",
    "svc_s.fit(X_train_resampled, y_train_resampled)"
   ]
  },
  {
   "cell_type": "code",
   "execution_count": 176,
   "id": "1f9ae5c1",
   "metadata": {
    "ExecuteTime": {
     "end_time": "2025-09-15T14:27:15.068082Z",
     "start_time": "2025-09-15T14:27:13.566075Z"
    }
   },
   "outputs": [],
   "source": [
    "# predicting train set\n",
    "train_y_pred_log_s = logistic_reg_s.predict(X_train)\n",
    "train_y_pred_forest_s = random_forest_s.predict(X_train)\n",
    "train_y_pred_grad_s = gradient_boost_s.predict(X_train)\n",
    "train_y_pred_svc_s = svc_s.predict(X_train)"
   ]
  },
  {
   "cell_type": "code",
   "execution_count": 178,
   "id": "1c326e9c",
   "metadata": {
    "ExecuteTime": {
     "end_time": "2025-09-15T14:27:40.105999Z",
     "start_time": "2025-09-15T14:27:39.635396Z"
    }
   },
   "outputs": [],
   "source": [
    "# predicting test set\n",
    "y_pred_log_s = logistic_reg_s.predict(X_test)\n",
    "y_pred_forest_s = random_forest_s.predict(X_test)\n",
    "y_pred_grad_s = gradient_boost_s.predict(X_test)\n",
    "y_pred_svc_s = svc_s.predict(X_test)"
   ]
  },
  {
   "cell_type": "markdown",
   "id": "9b3b2e85",
   "metadata": {},
   "source": [
    "**Accuracy Score**"
   ]
  },
  {
   "cell_type": "code",
   "execution_count": 186,
   "id": "88fac015",
   "metadata": {
    "ExecuteTime": {
     "end_time": "2025-09-15T14:44:50.210102Z",
     "start_time": "2025-09-15T14:44:50.188815Z"
    }
   },
   "outputs": [],
   "source": [
    "# Accuracy on Train set\n",
    "train_acc_logistic_reg_s = accuracy_score(y_train, train_y_pred_log_s) *100\n",
    "train_acc_random_forest_s = accuracy_score(y_train, train_y_pred_forest_s) *100\n",
    "train_acc_gradient_boost_s = accuracy_score(y_train, train_y_pred_grad_s) *100\n",
    "train_acc_svc_s = accuracy_score(y_train, train_y_pred_svc_s) * 100"
   ]
  },
  {
   "cell_type": "code",
   "execution_count": 187,
   "id": "a9d35836",
   "metadata": {
    "ExecuteTime": {
     "end_time": "2025-09-15T14:44:50.875694Z",
     "start_time": "2025-09-15T14:44:50.855106Z"
    }
   },
   "outputs": [],
   "source": [
    "acc_logistic_reg_s = accuracy_score(y_test, y_pred_log_s) *100\n",
    "acc_random_forest_s = accuracy_score(y_test, y_pred_forest_s) *100\n",
    "acc_gradient_boost_s = accuracy_score(y_test, y_pred_grad_s) *100\n",
    "acc_svc_s = accuracy_score(y_test, y_pred_svc_s) * 100"
   ]
  },
  {
   "cell_type": "markdown",
   "id": "f259b986",
   "metadata": {},
   "source": [
    "**Precision Score**"
   ]
  },
  {
   "cell_type": "code",
   "execution_count": 180,
   "id": "8a9bce16",
   "metadata": {
    "ExecuteTime": {
     "end_time": "2025-09-15T14:35:19.451235Z",
     "start_time": "2025-09-15T14:35:19.405465Z"
    }
   },
   "outputs": [],
   "source": [
    "train_precision_logistic_reg_s = precision_score(y_train, train_y_pred_log_s) * 100\n",
    "train_precision_random_forest_s = precision_score(y_train, train_y_pred_forest_s) * 100\n",
    "train_precision_gradient_boost_s = precision_score(y_train, train_y_pred_grad_s) * 100\n",
    "train_precision_svc_s = precision_score(y_train, train_y_pred_svc_s) * 100"
   ]
  },
  {
   "cell_type": "code",
   "execution_count": 181,
   "id": "d692df4a",
   "metadata": {
    "ExecuteTime": {
     "end_time": "2025-09-15T14:35:20.613704Z",
     "start_time": "2025-09-15T14:35:20.574614Z"
    }
   },
   "outputs": [],
   "source": [
    "precision_logistic_reg_s = precision_score(y_test, y_pred_log_s) * 100\n",
    "precision_random_forest_s = precision_score(y_test, y_pred_forest_s) * 100\n",
    "precision_gradient_boost_s = precision_score(y_test, y_pred_grad_s) * 100\n",
    "precision_svc_s = precision_score(y_test, y_pred_svc_s) * 100"
   ]
  },
  {
   "cell_type": "markdown",
   "id": "a43dd15a",
   "metadata": {},
   "source": [
    "**Recall Score**"
   ]
  },
  {
   "cell_type": "code",
   "execution_count": 182,
   "id": "bad69545",
   "metadata": {
    "ExecuteTime": {
     "end_time": "2025-09-15T14:39:13.489974Z",
     "start_time": "2025-09-15T14:39:13.455075Z"
    }
   },
   "outputs": [],
   "source": [
    "train_recall_logistic_reg_s = recall_score(y_train, train_y_pred_log_s) * 100\n",
    "train_recall_random_forest_s = recall_score(y_train, train_y_pred_forest_s) * 100\n",
    "train_recall_gradient_boost_s = recall_score(y_train, train_y_pred_grad_s) * 100\n",
    "train_recall_svc_s = recall_score(y_train, train_y_pred_svc_s) * 100"
   ]
  },
  {
   "cell_type": "code",
   "execution_count": 183,
   "id": "ca6d6db6",
   "metadata": {
    "ExecuteTime": {
     "end_time": "2025-09-15T14:39:17.884287Z",
     "start_time": "2025-09-15T14:39:17.837153Z"
    }
   },
   "outputs": [],
   "source": [
    "recall_logistic_reg_s = recall_score(y_test, y_pred_log_s) * 100\n",
    "recall_random_forest_s = recall_score(y_test, y_pred_forest_s) * 100\n",
    "recall_gradient_boost_s = recall_score(y_test, y_pred_grad_s) * 100\n",
    "recall_svc_s = recall_score(y_test, y_pred_svc_s) * 100"
   ]
  },
  {
   "cell_type": "code",
   "execution_count": 184,
   "id": "ead0505f",
   "metadata": {
    "ExecuteTime": {
     "end_time": "2025-09-15T14:42:50.879671Z",
     "start_time": "2025-09-15T14:42:50.853373Z"
    }
   },
   "outputs": [
    {
     "data": {
      "text/html": [
       "<div>\n",
       "<style scoped>\n",
       "    .dataframe tbody tr th:only-of-type {\n",
       "        vertical-align: middle;\n",
       "    }\n",
       "\n",
       "    .dataframe tbody tr th {\n",
       "        vertical-align: top;\n",
       "    }\n",
       "\n",
       "    .dataframe thead th {\n",
       "        text-align: right;\n",
       "    }\n",
       "</style>\n",
       "<table border=\"1\" class=\"dataframe\">\n",
       "  <thead>\n",
       "    <tr style=\"text-align: right;\">\n",
       "      <th></th>\n",
       "      <th>Accuracy</th>\n",
       "      <th>Precision</th>\n",
       "      <th>Recall</th>\n",
       "    </tr>\n",
       "  </thead>\n",
       "  <tbody>\n",
       "    <tr>\n",
       "      <th>Logistic_Regression</th>\n",
       "      <td>71.120000</td>\n",
       "      <td>38.607143</td>\n",
       "      <td>70.746073</td>\n",
       "    </tr>\n",
       "    <tr>\n",
       "      <th>Random_Forest</th>\n",
       "      <td>82.640000</td>\n",
       "      <td>56.413167</td>\n",
       "      <td>65.052356</td>\n",
       "    </tr>\n",
       "    <tr>\n",
       "      <th>Gradient_Boost</th>\n",
       "      <td>84.373333</td>\n",
       "      <td>60.507674</td>\n",
       "      <td>67.081152</td>\n",
       "    </tr>\n",
       "    <tr>\n",
       "      <th>Support_Vector</th>\n",
       "      <td>79.453333</td>\n",
       "      <td>49.726546</td>\n",
       "      <td>77.356021</td>\n",
       "    </tr>\n",
       "  </tbody>\n",
       "</table>\n",
       "</div>"
      ],
      "text/plain": [
       "                      Accuracy  Precision     Recall\n",
       "Logistic_Regression  71.120000  38.607143  70.746073\n",
       "Random_Forest        82.640000  56.413167  65.052356\n",
       "Gradient_Boost       84.373333  60.507674  67.081152\n",
       "Support_Vector       79.453333  49.726546  77.356021"
      ]
     },
     "execution_count": 184,
     "metadata": {},
     "output_type": "execute_result"
    }
   ],
   "source": [
    "train_metrics_data_s = pd.DataFrame({\"Accuracy\": [train_acc_logistic_reg_s, train_acc_random_forest_s, train_acc_gradient_boost_s, train_acc_svc_s],\n",
    "                            \"Precision\": [train_precision_logistic_reg_s, train_precision_random_forest_s, train_precision_gradient_boost_s, train_precision_svc_s],\n",
    "                            \"Recall\": [train_recall_logistic_reg_s, train_recall_random_forest_s, train_recall_gradient_boost_s, train_recall_svc_s]})\n",
    "\n",
    "train_metrics_data_s.index = ['Logistic_Regression', 'Random_Forest', 'Gradient_Boost', 'Support_Vector']\n",
    "train_metrics_data_s"
   ]
  },
  {
   "cell_type": "code",
   "execution_count": 188,
   "id": "05553be0",
   "metadata": {
    "ExecuteTime": {
     "end_time": "2025-09-15T14:44:55.759064Z",
     "start_time": "2025-09-15T14:44:55.728751Z"
    }
   },
   "outputs": [
    {
     "data": {
      "text/html": [
       "<div>\n",
       "<style scoped>\n",
       "    .dataframe tbody tr th:only-of-type {\n",
       "        vertical-align: middle;\n",
       "    }\n",
       "\n",
       "    .dataframe tbody tr th {\n",
       "        vertical-align: top;\n",
       "    }\n",
       "\n",
       "    .dataframe thead th {\n",
       "        text-align: right;\n",
       "    }\n",
       "</style>\n",
       "<table border=\"1\" class=\"dataframe\">\n",
       "  <thead>\n",
       "    <tr style=\"text-align: right;\">\n",
       "      <th></th>\n",
       "      <th>Accuracy</th>\n",
       "      <th>Precision</th>\n",
       "      <th>Recall</th>\n",
       "    </tr>\n",
       "  </thead>\n",
       "  <tbody>\n",
       "    <tr>\n",
       "      <th>Logistic_Regression</th>\n",
       "      <td>70.48</td>\n",
       "      <td>38.085328</td>\n",
       "      <td>71.905697</td>\n",
       "    </tr>\n",
       "    <tr>\n",
       "      <th>Random_Forest</th>\n",
       "      <td>81.84</td>\n",
       "      <td>55.009107</td>\n",
       "      <td>59.332024</td>\n",
       "    </tr>\n",
       "    <tr>\n",
       "      <th>Gradient_Boost</th>\n",
       "      <td>83.16</td>\n",
       "      <td>58.118081</td>\n",
       "      <td>61.886051</td>\n",
       "    </tr>\n",
       "    <tr>\n",
       "      <th>Support_Vector</th>\n",
       "      <td>76.72</td>\n",
       "      <td>45.397226</td>\n",
       "      <td>70.726916</td>\n",
       "    </tr>\n",
       "  </tbody>\n",
       "</table>\n",
       "</div>"
      ],
      "text/plain": [
       "                     Accuracy  Precision     Recall\n",
       "Logistic_Regression     70.48  38.085328  71.905697\n",
       "Random_Forest           81.84  55.009107  59.332024\n",
       "Gradient_Boost          83.16  58.118081  61.886051\n",
       "Support_Vector          76.72  45.397226  70.726916"
      ]
     },
     "execution_count": 188,
     "metadata": {},
     "output_type": "execute_result"
    }
   ],
   "source": [
    "metrics_data_s = pd.DataFrame({\"Accuracy\": [acc_logistic_reg_s, acc_random_forest_s, acc_gradient_boost_s, acc_svc_s],\n",
    "                            \"Precision\": [precision_logistic_reg_s, precision_random_forest_s, precision_gradient_boost_s, precision_svc_s],\n",
    "                            \"Recall\": [recall_logistic_reg_s, recall_random_forest_s, recall_gradient_boost_s, recall_svc_s]})\n",
    "\n",
    "metrics_data_s.index = ['Logistic_Regression', 'Random_Forest', 'Gradient_Boost', 'Support_Vector']\n",
    "metrics_data_s"
   ]
  },
  {
   "cell_type": "code",
   "execution_count": 189,
   "id": "0ecd43c9",
   "metadata": {
    "ExecuteTime": {
     "end_time": "2025-09-15T14:46:19.102757Z",
     "start_time": "2025-09-15T14:46:18.553122Z"
    }
   },
   "outputs": [
    {
     "data": {
      "image/png": "[encoded data removed]",
      "text/plain": [
       "<Figure size 1000x500 with 1 Axes>"
      ]
     },
     "metadata": {},
     "output_type": "display_data"
    }
   ],
   "source": [
    "ax3 = train_metrics_data_s.plot.barh(figsize=(10,5))\n",
    "plt.title(\"Metrics on Training Data\")\n",
    "plt.legend(loc='lower left', bbox_to_anchor=(1,0.8))\n",
    "for bars in ax3.containers:\n",
    "    #ax.bar_label(bars, fmt=\"%.2f\", label_type='edge', padding=3)\n",
    "    ax3.bar_label(bars, fmt=\"%.1f%%\", label_type='edge', padding=3)  # this adds labels as percentage\n",
    "plt.tight_layout()\n",
    "plt.show()"
   ]
  },
  {
   "cell_type": "code",
   "execution_count": 190,
   "id": "35de91e4",
   "metadata": {
    "ExecuteTime": {
     "end_time": "2025-09-15T14:47:32.108463Z",
     "start_time": "2025-09-15T14:47:31.493488Z"
    }
   },
   "outputs": [
    {
     "data": {
      "image/png": "[encoded data removed]",
      "text/plain": [
       "<Figure size 1000x500 with 1 Axes>"
      ]
     },
     "metadata": {},
     "output_type": "display_data"
    }
   ],
   "source": [
    "ax4 = metrics_data_s.plot.barh(figsize=(10,5))\n",
    "plt.title(\"Metrics on Test Data\")\n",
    "plt.legend(loc='lower left', bbox_to_anchor=(1,0.8))\n",
    "for bars in ax4.containers:\n",
    "    #ax.bar_label(bars, fmt=\"%.2f\", label_type='edge', padding=3)\n",
    "    ax4.bar_label(bars, fmt=\"%.1f%%\", label_type='edge', padding=3)  # this adds labels as percentage\n",
    "plt.tight_layout()\n",
    "plt.show()"
   ]
  },
  {
   "cell_type": "code",
   "execution_count": 191,
   "id": "37ba695d",
   "metadata": {
    "ExecuteTime": {
     "end_time": "2025-09-15T14:50:45.649886Z",
     "start_time": "2025-09-15T14:50:44.949790Z"
    }
   },
   "outputs": [
    {
     "data": {
      "image/png": "[encoded data removed]",
      "text/plain": [
       "<Figure size 1200x500 with 3 Axes>"
      ]
     },
     "metadata": {},
     "output_type": "display_data"
    }
   ],
   "source": [
    "# Getting the cnfusion Matrics for Gradient Boost\n",
    "conf_matrix_s = confusion_matrix(y_test, y_pred_grad_s)\n",
    "y_test_vals = y_test.value_counts()\n",
    "\n",
    "fig, ax = plt.subplots(1,2,figsize=(12,5))\n",
    "sns.heatmap(conf_matrix_s, annot=True,fmt='d',ax=ax[0])\n",
    "y_test_vals.plot(kind='bar', ax=ax[1], color=['green', 'red'])\n",
    "\n",
    "for i, val in enumerate(y_test_vals.values):\n",
    "    ax[1].text(i, val, f\"{val}\", ha='center', va='bottom', weight='bold')\n",
    "\n",
    "\n",
    "ax[1].set_title(\"Distribution of Test output Variable\")\n",
    "ax[0].set_xlabel(\"Predicted\")\n",
    "ax[0].set_ylabel(\"Actual\")\n",
    "ax[0].set_title(\"Confusion Matrix: Gradient Boost Test Predictions\")\n",
    "plt.tight_layout()\n",
    "plt.show()"
   ]
  },
  {
   "cell_type": "code",
   "execution_count": 77,
   "id": "d5fb4f18",
   "metadata": {
    "ExecuteTime": {
     "end_time": "2025-09-15T06:19:33.915086Z",
     "start_time": "2025-09-15T06:19:29.422937Z"
    }
   },
   "outputs": [
    {
     "name": "stderr",
     "output_type": "stream",
     "text": [
      "To https://github.com/Tobiodedere1211/customer-churn-with-ANN.git\n",
      "   2c550dc..df66194  main -> main\n"
     ]
    }
   ],
   "source": [
    "!git add "
   ]
  }
 ],
 "metadata": {
  "kernelspec": {
   "display_name": "Python 3 (ipykernel)",
   "language": "python",
   "name": "python3"
  },
  "language_info": {
   "codemirror_mode": {
    "name": "ipython",
    "version": 3
   },
   "file_extension": ".py",
   "mimetype": "text/x-python",
   "name": "python",
   "nbconvert_exporter": "python",
   "pygments_lexer": "ipython3",
   "version": "3.11.5"
  },
  "toc": {
   "base_numbering": 1,
   "nav_menu": {},
   "number_sections": true,
   "sideBar": true,
   "skip_h1_title": false,
   "title_cell": "Table of Contents",
   "title_sidebar": "Contents",
   "toc_cell": false,
   "toc_position": {},
   "toc_section_display": true,
   "toc_window_display": false
  },
  "varInspector": {
   "cols": {
    "lenName": 16,
    "lenType": 16,
    "lenVar": 40
   },
   "kernels_config": {
    "python": {
     "delete_cmd_postfix": "",
     "delete_cmd_prefix": "del ",
     "library": "var_list.py",
     "varRefreshCmd": "print(var_dic_list())"
    },
    "r": {
     "delete_cmd_postfix": ") ",
     "delete_cmd_prefix": "rm(",
     "library": "var_list.r",
     "varRefreshCmd": "cat(var_dic_list()) "
    }
   },
   "types_to_exclude": [
    "module",
    "function",
    "builtin_function_or_method",
    "instance",
    "_Feature"
   ],
   "window_display": false
  }
 },
 "nbformat": 4,
 "nbformat_minor": 5
}
